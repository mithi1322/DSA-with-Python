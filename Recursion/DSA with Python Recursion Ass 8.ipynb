{
 "cells": [
  {
   "cell_type": "markdown",
   "id": "3b43c412-f4c7-4a75-93cf-e4f33204bd13",
   "metadata": {},
   "source": [
    "Q1. Given two strings s1 and s2, return *the lowest **ASCII** sum of deleted characters to make two strings equal*.\n",
    "\n",
    "**Example 1:**\n",
    "\n",
    "**Input:** s1 = \"sea\", s2 = \"eat\"\n",
    "\n",
    "**Output:** 231\n",
    "\n",
    "**Explanation:** Deleting \"s\" from \"sea\" adds the ASCII value of \"s\" (115) to the sum.\n",
    "\n",
    "Deleting \"t\" from \"eat\" adds 116 to the sum.\n",
    "\n",
    "At the end, both strings are equal, and 115 + 116 = 231 is the minimum sum possible to achieve this."
   ]
  },
  {
   "cell_type": "code",
   "execution_count": 24,
   "id": "1ae3a454-a66a-41e2-99d0-cff53fe4b0f0",
   "metadata": {},
   "outputs": [
    {
     "name": "stdout",
     "output_type": "stream",
     "text": [
      "231\n"
     ]
    }
   ],
   "source": [
    "def min_delete_sum(s1, s2):\n",
    "    m, n = len(s1), len(s2)\n",
    "    dp = [[0] * (n + 1) for _ in range(m + 1)]\n",
    "\n",
    "    # Initialize the first row and column\n",
    "    for i in range(1, m + 1):\n",
    "        dp[i][0] = dp[i - 1][0] + ord(s1[i - 1])\n",
    "    for j in range(1, n + 1):\n",
    "        dp[0][j] = dp[0][j - 1] + ord(s2[j - 1])\n",
    "\n",
    "    # Fill in the dp array\n",
    "    for i in range(1, m + 1):\n",
    "        for j in range(1, n + 1):\n",
    "            if s1[i - 1] == s2[j - 1]:\n",
    "                dp[i][j] = dp[i - 1][j - 1]\n",
    "            else:\n",
    "                dp[i][j] = min(dp[i - 1][j] + ord(s1[i - 1]), dp[i][j - 1] + ord(s2[j - 1]))\n",
    "\n",
    "    return dp[m][n]\n",
    "\n",
    "s1 = \"sea\"\n",
    "s2 = \"eat\"\n",
    "print(min_delete_sum(s1, s2)) \n"
   ]
  },
  {
   "cell_type": "markdown",
   "id": "72523c20-d712-4d5e-a249-43799ff4b4fd",
   "metadata": {},
   "source": [
    "Q2. Given a string s containing only three types of characters: '(', ')' and '*', return true *if* s *is **valid***.\n",
    "\n",
    "The following rules define a **valid** string:\n",
    "\n",
    "- Any left parenthesis '(' must have a corresponding right parenthesis ')'.\n",
    "- Any right parenthesis ')' must have a corresponding left parenthesis '('.\n",
    "- Left parenthesis '(' must go before the corresponding right parenthesis ')'.\n",
    "- '*' could be treated as a single right parenthesis ')' or a single left parenthesis '(' or an empty string \"\".\n",
    "\n",
    "**Example 1:**\n",
    "\n",
    "**Input:** s = \"()\"\n",
    "\n",
    "**Output:**\n",
    "\n",
    "true"
   ]
  },
  {
   "cell_type": "code",
   "execution_count": 25,
   "id": "0316ae33-4b5b-4d7f-bb7c-1a086d11fdc1",
   "metadata": {},
   "outputs": [
    {
     "name": "stdout",
     "output_type": "stream",
     "text": [
      "True\n"
     ]
    }
   ],
   "source": [
    "def is_valid(s):\n",
    "    stack = []\n",
    "    for char in s:\n",
    "        if char == '(' or char == '*':\n",
    "            stack.append(char)\n",
    "        elif char == ')':\n",
    "            if stack and stack[-1] == '(':\n",
    "                stack.pop()\n",
    "            else:\n",
    "                stack.append(char)\n",
    "    open_count = 0\n",
    "    for char in stack:\n",
    "        if char == '(':\n",
    "            open_count += 1\n",
    "        elif char == ')':\n",
    "            if open_count > 0:\n",
    "                open_count -= 1\n",
    "            else:\n",
    "                return False\n",
    "    return True if open_count == 0 else False\n",
    "\n",
    "s = \"()\"\n",
    "print(is_valid(s))  \n"
   ]
  },
  {
   "cell_type": "markdown",
   "id": "cf3c796d-24b0-4b58-9c00-0c154f5fad74",
   "metadata": {},
   "source": [
    "Q3. Given two strings word1 and word2, return *the minimum number of **steps** required to make* word1 *and* word2 *the same*.\n",
    "\n",
    "In one **step**, you can delete exactly one character in either string.\n",
    "\n",
    "**Example 1:**\n",
    "\n",
    "**Input:** word1 = \"sea\", word2 = \"eat\"\n",
    "\n",
    "**Output:** 2\n",
    "\n",
    "**Explanation:** You need one step to make \"sea\" to \"ea\" and another step to make \"eat\" to \"ea\"."
   ]
  },
  {
   "cell_type": "code",
   "execution_count": 26,
   "id": "5db717d6-09af-4e06-a8c0-edd9be5bb548",
   "metadata": {},
   "outputs": [
    {
     "name": "stdout",
     "output_type": "stream",
     "text": [
      "2\n"
     ]
    }
   ],
   "source": [
    "def min_steps(word1, word2):\n",
    "    m = len(word1)\n",
    "    n = len(word2)\n",
    "    \n",
    "    # Create a 2D table to store the LCS lengths\n",
    "    dp = [[0] * (n + 1) for _ in range(m + 1)]\n",
    "    \n",
    "    # Compute the LCS lengths\n",
    "    for i in range(1, m + 1):\n",
    "        for j in range(1, n + 1):\n",
    "            if word1[i - 1] == word2[j - 1]:\n",
    "                dp[i][j] = dp[i - 1][j - 1] + 1\n",
    "            else:\n",
    "                dp[i][j] = max(dp[i - 1][j], dp[i][j - 1])\n",
    "    \n",
    "    lcs_length = dp[m][n]\n",
    "    return m + n - 2 * lcs_length\n",
    "\n",
    "word1 = \"sea\"\n",
    "word2 = \"eat\"\n",
    "print(min_steps(word1, word2)) \n"
   ]
  },
  {
   "cell_type": "markdown",
   "id": "dac9a048-767f-4670-9b0a-d57eac74364b",
   "metadata": {},
   "source": [
    "Q4. You need to construct a binary tree from a string consisting of parenthesis and integers.\n",
    "\n",
    "The whole input represents a binary tree. It contains an integer followed by zero, one or two pairs of parenthesis. The integer represents the root's value and a pair of parenthesis contains a child binary tree with the same structure.\n",
    "You always start to construct the **left** child node of the parent first if it exists.\n",
    "\n",
    "**Input:** s = \"4(2(3)(1))(6(5))\"\n",
    "\n",
    "**Output:** [4,2,6,3,1,5]"
   ]
  },
  {
   "cell_type": "code",
   "execution_count": 27,
   "id": "9353d6ed-9f8a-4112-8ec7-a518461c1d1c",
   "metadata": {},
   "outputs": [
    {
     "name": "stdout",
     "output_type": "stream",
     "text": [
      "[4, 2, 3, 1, 6, 5]\n"
     ]
    }
   ],
   "source": [
    "class TreeNode:\n",
    "    def __init__(self, val=0, left=None, right=None):\n",
    "        self.val = val\n",
    "        self.left = left\n",
    "        self.right = right\n",
    "\n",
    "def constructBinaryTree(s):\n",
    "    if not s:\n",
    "        return None\n",
    "\n",
    "    # Find the index of the first '('\n",
    "    i = s.find('(')\n",
    "\n",
    "    if i == -1:\n",
    "        return TreeNode(int(s))\n",
    "\n",
    "    root = TreeNode(int(s[:i]))\n",
    "\n",
    "    # Find the index of the matching closing parenthesis ')'\n",
    "    count = 0\n",
    "    j = i\n",
    "    while j < len(s):\n",
    "        if s[j] == '(':\n",
    "            count += 1\n",
    "        elif s[j] == ')':\n",
    "            count -= 1\n",
    "        if count == 0:\n",
    "            break\n",
    "        j += 1\n",
    "\n",
    "    # Recursively construct the left and right subtrees\n",
    "    root.left = constructBinaryTree(s[i + 1:j])\n",
    "    root.right = constructBinaryTree(s[j + 2:-1])\n",
    "\n",
    "    return root\n",
    "\n",
    "def preorderTraversal(root):\n",
    "    if not root:\n",
    "        return []\n",
    "    return [root.val] + preorderTraversal(root.left) + preorderTraversal(root.right)\n",
    "\n",
    "s = \"4(2(3)(1))(6(5))\"\n",
    "tree = constructBinaryTree(s)\n",
    "output = preorderTraversal(tree)\n",
    "print(output)\n"
   ]
  },
  {
   "cell_type": "markdown",
   "id": "71b46ab7-2583-4383-9f9d-dc6b89cc6c52",
   "metadata": {},
   "source": [
    "Q5. Given an array of characters chars, compress it using the following algorithm:\n",
    "\n",
    "Begin with an empty string s. For each group of **consecutive repeating characters** in chars:\n",
    "\n",
    "- If the group's length is 1, append the character to s.\n",
    "- Otherwise, append the character followed by the group's length.\n",
    "\n",
    "The compressed string s **should not be returned separately**, but instead, be stored **in the input character array chars**. Note that group lengths that are 10 or longer will be split into multiple characters in chars.\n",
    "\n",
    "After you are done **modifying the input array,** return *the new length of the array*.\n",
    "\n",
    "You must write an algorithm that uses only constant extra space.\n",
    "\n",
    "**Example 1:**\n",
    "\n",
    "**Input:** chars = [\"a\",\"a\",\"b\",\"b\",\"c\",\"c\",\"c\"]\n",
    "\n",
    "**Output:** Return 6, and the first 6 characters of the input array should be: [\"a\",\"2\",\"b\",\"2\",\"c\",\"3\"]\n",
    "\n",
    "**Explanation:**\n",
    "\n",
    "The groups are \"aa\", \"bb\", and \"ccc\". This compresses to \"a2b2c3\"."
   ]
  },
  {
   "cell_type": "code",
   "execution_count": 28,
   "id": "92aeba90-ea39-4664-9e7d-df88560e1206",
   "metadata": {},
   "outputs": [
    {
     "name": "stdout",
     "output_type": "stream",
     "text": [
      "6\n"
     ]
    }
   ],
   "source": [
    "def compress(chars):\n",
    "    n = len(chars)\n",
    "    write_idx = 0\n",
    "    i = 0\n",
    "\n",
    "    while i < n:\n",
    "        char = chars[i]\n",
    "        count = 1\n",
    "        while i + 1 < n and chars[i + 1] == char:\n",
    "            count += 1\n",
    "            i += 1\n",
    "\n",
    "        chars[write_idx] = char\n",
    "        write_idx += 1\n",
    "\n",
    "        # Write the count as a string if it is greater than 1\n",
    "        if count > 1:\n",
    "            count_str = str(count)\n",
    "            for digit in count_str:\n",
    "                chars[write_idx] = digit\n",
    "                write_idx += 1\n",
    "        i += 1\n",
    "\n",
    "    return write_idx\n",
    "\n",
    "chars = [\"a\",\"a\",\"b\",\"b\",\"c\",\"c\",\"c\"]\n",
    "result=compress(chars)\n",
    "print(result)\n"
   ]
  },
  {
   "cell_type": "markdown",
   "id": "9a934f16-6758-4413-b9b5-07761067bd04",
   "metadata": {},
   "source": [
    "Q6. Given two strings s and p, return *an array of all the start indices of* p*'s anagrams in* s. You may return the answer in **any order**.\n",
    "\n",
    "An **Anagram** is a word or phrase formed by rearranging the letters of a different word or phrase, typically using all the original letters exactly once.\n",
    "\n",
    "**Example 1:**\n",
    "\n",
    "**Input:** s = \"cbaebabacd\", p = \"abc\"\n",
    "\n",
    "**Output:** [0,6]\n",
    "\n",
    "**Explanation:**\n",
    "\n",
    "The substring with start index = 0 is \"cba\", which is an anagram of \"abc\".\n",
    "\n",
    "The substring with start index = 6 is \"bac\", which is an anagram of \"abc\"."
   ]
  },
  {
   "cell_type": "code",
   "execution_count": 29,
   "id": "7ab68b9b-0f97-4f8c-8ac7-cc4fd9d91e48",
   "metadata": {},
   "outputs": [
    {
     "name": "stdout",
     "output_type": "stream",
     "text": [
      "[0, 6]\n"
     ]
    }
   ],
   "source": [
    "from collections import Counter\n",
    "\n",
    "def anagrams(s, p):\n",
    "    result = []\n",
    "    n = len(s)\n",
    "    m = len(p)\n",
    "    p_freq = Counter(p)\n",
    "    window_freq = Counter(s[:m])\n",
    "\n",
    "    if p_freq == window_freq:\n",
    "        result.append(0)\n",
    "\n",
    "    for i in range(m, n):\n",
    "        window_freq[s[i]] += 1\n",
    "        window_freq[s[i - m]] -= 1\n",
    "        if window_freq[s[i - m]] == 0:\n",
    "            del window_freq[s[i - m]]\n",
    "\n",
    "        if p_freq == window_freq:\n",
    "            result.append(i - m + 1)\n",
    "\n",
    "    return result\n",
    "\n",
    "s = \"cbaebabacd\"\n",
    "p = \"abc\"\n",
    "out=anagrams(s,p)\n",
    "print(out)"
   ]
  },
  {
   "cell_type": "markdown",
   "id": "d7fe65b0-9b54-4a18-b809-a24855ec28f9",
   "metadata": {},
   "source": [
    "Q7. Given an encoded string, return its decoded string.\n",
    "\n",
    "The encoding rule is: k[encoded_string], where the encoded_string inside the square brackets is being repeated exactly k times. Note that k is guaranteed to be a positive integer.\n",
    "\n",
    "You may assume that the input string is always valid; there are no extra white spaces, square brackets are well-formed, etc. Furthermore, you may assume that the original data does not contain any digits and that digits are only for those repeat numbers, k. For example, there will not be input like 3a or 2[4].\n",
    "\n",
    "The test cases are generated so that the length of the output will never exceed 105.\n",
    "\n",
    "**Example 1:**\n",
    "\n",
    "**Input:** s = \"3[a]2[bc]\"\n",
    "\n",
    "**Output:** \"aaabcbc\""
   ]
  },
  {
   "cell_type": "code",
   "execution_count": 30,
   "id": "86c89d0f-4e92-4185-ac98-0867bfdd7c1a",
   "metadata": {},
   "outputs": [
    {
     "name": "stdout",
     "output_type": "stream",
     "text": [
      "aaabcbc\n"
     ]
    }
   ],
   "source": [
    "def decode_string(s):\n",
    "    stack = []\n",
    "    current_num = 0\n",
    "    current_str = \"\"\n",
    "\n",
    "    for char in s:\n",
    "        if char.isdigit():\n",
    "            current_num = current_num * 10 + int(char)\n",
    "        elif char == '[':\n",
    "            stack.append(current_str)\n",
    "            stack.append(current_num)\n",
    "            current_str = \"\"\n",
    "            current_num = 0\n",
    "        elif char == ']':\n",
    "            num = stack.pop()\n",
    "            prev_str = stack.pop()\n",
    "            current_str = prev_str + current_str * num\n",
    "        else:\n",
    "            current_str += char\n",
    "\n",
    "    return current_str\n",
    "\n",
    "s = \"3[a]2[bc]\"\n",
    "out=decode_string(s)\n",
    "print(out)\n"
   ]
  },
  {
   "cell_type": "markdown",
   "id": "47a4811d-23ec-416f-be5f-f31dd3c0f41d",
   "metadata": {},
   "source": [
    "Q8. Given two strings s and goal, return true *if you can swap two letters in* s *so the result is equal to* goal*, otherwise, return* false*.*\n",
    "\n",
    "Swapping letters is defined as taking two indices i and j (0-indexed) such that i != j and swapping the characters at s[i] and s[j].\n",
    "\n",
    "- For example, swapping at indices 0 and 2 in \"abcd\" results in \"cbad\".\n",
    "\n",
    "**Example 1:**\n",
    "\n",
    "**Input:** s = \"ab\", goal = \"ba\"\n",
    "\n",
    "**Output:** true\n",
    "\n",
    "**Explanation:** You can swap s[0] = 'a' and s[1] = 'b' to get \"ba\", which is equal to goal."
   ]
  },
  {
   "cell_type": "code",
   "execution_count": 31,
   "id": "d62fd874-c8f2-4e0a-a5c0-63a146f26afb",
   "metadata": {},
   "outputs": [
    {
     "name": "stdout",
     "output_type": "stream",
     "text": [
      "True\n"
     ]
    }
   ],
   "source": [
    "def buddy_strings(s, goal):\n",
    "    if len(s) != len(goal):\n",
    "        return False\n",
    "    \n",
    "    if s == goal:\n",
    "        seen = set()\n",
    "        for char in s:\n",
    "            if char in seen:\n",
    "                return True\n",
    "            seen.add(char)\n",
    "        return False\n",
    "    \n",
    "    pairs = []\n",
    "    for i in range(len(s)):\n",
    "        if s[i] != goal[i]:\n",
    "            pairs.append((s[i], goal[i]))\n",
    "    \n",
    "    if len(pairs) != 2:\n",
    "        return False\n",
    "    \n",
    "    return pairs[0] == pairs[1][::-1]\n",
    "\n",
    "s = \"ab\"\n",
    "goal = \"ba\"\n",
    "output=buddy_strings(s,goal)\n",
    "print(output)"
   ]
  },
  {
   "cell_type": "code",
   "execution_count": null,
   "id": "41c19629-94ea-4509-85fd-e12c4ff664f0",
   "metadata": {},
   "outputs": [],
   "source": []
  }
 ],
 "metadata": {
  "kernelspec": {
   "display_name": "Python 3 (ipykernel)",
   "language": "python",
   "name": "python3"
  },
  "language_info": {
   "codemirror_mode": {
    "name": "ipython",
    "version": 3
   },
   "file_extension": ".py",
   "mimetype": "text/x-python",
   "name": "python",
   "nbconvert_exporter": "python",
   "pygments_lexer": "ipython3",
   "version": "3.10.8"
  }
 },
 "nbformat": 4,
 "nbformat_minor": 5
}
