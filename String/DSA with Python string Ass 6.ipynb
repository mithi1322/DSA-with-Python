{
 "cells": [
  {
   "cell_type": "markdown",
   "id": "9ed74059-375d-4c6f-b554-44649f0d5004",
   "metadata": {},
   "source": [
    "Q1. A permutation perm of n + 1 integers of all the integers in the range [0, n] can be represented as a string s of length n where:\n",
    "\n",
    "- s[i] == 'I' if perm[i] < perm[i + 1], and\n",
    "- s[i] == 'D' if perm[i] > perm[i + 1].\n",
    "\n",
    "Given a string s, reconstruct the permutation perm and return it. If there are multiple valid permutations perm, return **any of them**.\n",
    "\n",
    "**Example 1:**\n",
    "\n",
    "**Input:** s = \"IDID\"\n",
    "\n",
    "**Output:**\n",
    "\n",
    "[0,4,1,3,2]"
   ]
  },
  {
   "cell_type": "code",
   "execution_count": 1,
   "id": "e8a3c3eb-0ead-423d-9b09-b0fb23d18aad",
   "metadata": {},
   "outputs": [
    {
     "name": "stdout",
     "output_type": "stream",
     "text": [
      "[0, 4, 1, 3, 2]\n"
     ]
    }
   ],
   "source": [
    "def permutation(s):\n",
    "    perm = []\n",
    "    n = len(s)\n",
    "    current = 0\n",
    "\n",
    "    for ch in s:\n",
    "        if ch == 'I':\n",
    "            perm.append(current)\n",
    "            current += 1\n",
    "        elif ch == 'D':\n",
    "            perm.append(n)\n",
    "            n -= 1\n",
    "\n",
    "    perm.append(current if s[-1] == 'I' else n)\n",
    "    return perm\n",
    "\n",
    "s = \"IDID\"\n",
    "print(permutation(s))\n"
   ]
  },
  {
   "cell_type": "markdown",
   "id": "07f75465-4ecf-46c9-a3f0-b72e03c89732",
   "metadata": {},
   "source": [
    "Q2. You are given an m x n integer matrix matrix with the following two properties:\n",
    "\n",
    "- Each row is sorted in non-decreasing order.\n",
    "- The first integer of each row is greater than the last integer of the previous row.\n",
    "\n",
    "Given an integer target, return true *if* target *is in* matrix *or* false *otherwise*.\n",
    "\n",
    "You must write a solution in O(log(m * n)) time complexity.\n",
    "\n",
    "**Input:** matrix = [[1,3,5,7],[10,11,16,20],[23,30,34,60]], target = 3\n",
    "\n",
    "**Output:** true"
   ]
  },
  {
   "cell_type": "code",
   "execution_count": 3,
   "id": "11911de2-75dd-48f1-9b48-591fc27cc47a",
   "metadata": {},
   "outputs": [
    {
     "name": "stdout",
     "output_type": "stream",
     "text": [
      "True\n"
     ]
    }
   ],
   "source": [
    "def matrixs(matrix, target):\n",
    "    if not matrix or not matrix[0]:\n",
    "        return False\n",
    "\n",
    "    m, n = len(matrix), len(matrix[0])\n",
    "    left, right = 0, m * n - 1\n",
    "\n",
    "    while left <= right:\n",
    "        mid = (left + right) // 2\n",
    "        row = mid // n\n",
    "        col = mid % n\n",
    "        value = matrix[row][col]\n",
    "\n",
    "        if value == target:\n",
    "            return True\n",
    "        elif value < target:\n",
    "            left = mid + 1\n",
    "        else:\n",
    "            right = mid - 1\n",
    "\n",
    "    return False\n",
    "matrix = [\n",
    "    [1, 3, 5, 7],\n",
    "    [10, 11, 16, 20],\n",
    "    [23, 30, 34, 60]\n",
    "]\n",
    "target = 3\n",
    "\n",
    "print(matrixs(matrix, target))\n"
   ]
  },
  {
   "cell_type": "markdown",
   "id": "c66be094-a789-4a5d-819f-6c8d6a6badae",
   "metadata": {},
   "source": [
    "Q3. Given an array of integers arr, return *true if and only if it is a valid mountain array*.\n",
    "\n",
    "Recall that arr is a mountain array if and only if:\n",
    "\n",
    "- arr.length >= 3\n",
    "- There exists some i with 0 < i < arr.length - 1 such that:\n",
    "    - arr[0] < arr[1] < ... < arr[i - 1] < arr[i]\n",
    "    - arr[i] > arr[i + 1] > ... > arr[arr.length - 1]\n",
    "\n",
    "**Example 1:**\n",
    "\n",
    "**Input:** arr = [2,1]\n",
    "\n",
    "**Output:**\n",
    "\n",
    "false"
   ]
  },
  {
   "cell_type": "code",
   "execution_count": 4,
   "id": "54d296fb-3d1a-46ac-b74f-b156fb97ae72",
   "metadata": {},
   "outputs": [
    {
     "name": "stdout",
     "output_type": "stream",
     "text": [
      "False\n"
     ]
    }
   ],
   "source": [
    "def mountain_array(arr):\n",
    "    if len(arr) < 3:\n",
    "        return False\n",
    "\n",
    "    left, right = 0, len(arr) - 1\n",
    "\n",
    "    while left + 1 < len(arr) and arr[left] < arr[left + 1]:\n",
    "        left += 1\n",
    "\n",
    "    while right - 1 >= 0 and arr[right] < arr[right - 1]:\n",
    "        right -= 1\n",
    "\n",
    "    return left == right and left != 0 and right != len(arr) - 1\n",
    "\n",
    "arr = [2, 1]\n",
    "print(mountain_array(arr))\n"
   ]
  },
  {
   "cell_type": "markdown",
   "id": "0477b71f-c7f2-4951-93bd-5eb0b070ea41",
   "metadata": {},
   "source": [
    "Q4. Given a binary array nums, return *the maximum length of a contiguous subarray with an equal number of* 0 *and* 1.\n",
    "\n",
    "**Example 1:**\n",
    "\n",
    "**Input:** nums = [0,1]\n",
    "\n",
    "**Output:** 2\n",
    "\n",
    "**Explanation:**\n",
    "\n",
    "[0, 1] is the longest contiguous subarray with an equal number of 0 and 1."
   ]
  },
  {
   "cell_type": "code",
   "execution_count": 5,
   "id": "ed757670-72a6-4771-a063-03d8149a554f",
   "metadata": {},
   "outputs": [
    {
     "name": "stdout",
     "output_type": "stream",
     "text": [
      "2\n"
     ]
    }
   ],
   "source": [
    "def max_length(nums):\n",
    "    max_len = 0\n",
    "    count = 0\n",
    "    sum_counts = {0: -1}\n",
    "\n",
    "    for i in range(len(nums)):\n",
    "        if nums[i] == 0:\n",
    "            count -= 1\n",
    "        else:\n",
    "            count += 1\n",
    "\n",
    "        if count in sum_counts:\n",
    "            max_len = max(max_len, i - sum_counts[count])\n",
    "        else:\n",
    "            sum_counts[count] = i\n",
    "\n",
    "    return max_len\n",
    "\n",
    "nums = [0, 1]\n",
    "print(max_length(nums))\n"
   ]
  },
  {
   "cell_type": "markdown",
   "id": "9ee4a5c5-087c-4542-a532-504f8b4d2b9e",
   "metadata": {},
   "source": [
    "Q5. The **product sum** of two equal-length arrays a and b is equal to the sum of a[i] * b[i] for all 0 <= i < a.length (**0-indexed**).\n",
    "\n",
    "- For example, if a = [1,2,3,4] and b = [5,2,3,1], the **product sum** would be 1*5 + 2*2 + 3*3 + 4*1 = 22.\n",
    "\n",
    "Given two arrays nums1 and nums2 of length n, return *the **minimum product sum** if you are allowed to **rearrange** the **order** of the elements in* nums1.\n",
    "\n",
    "**Example 1:**\n",
    "\n",
    "**Input:** nums1 = [5,3,4,2], nums2 = [4,2,2,5]\n",
    "\n",
    "**Output:** 40\n",
    "\n",
    "**Explanation:**\n",
    "\n",
    "We can rearrange nums1 to become [3,5,4,2]. The product sum of [3,5,4,2] and [4,2,2,5] is 3*4 + 5*2 + 4*2 + 2*5 = 40."
   ]
  },
  {
   "cell_type": "code",
   "execution_count": 6,
   "id": "f02ac8f9-a8fb-4f91-ad1f-bad11363fc1b",
   "metadata": {},
   "outputs": [
    {
     "name": "stdout",
     "output_type": "stream",
     "text": [
      "40\n"
     ]
    }
   ],
   "source": [
    "def min_product_sum(nums1, nums2):\n",
    "    nums1.sort(reverse=True)\n",
    "    nums2.sort()\n",
    "    \n",
    "    return sum(nums1[i] * nums2[i] for i in range(len(nums1)))\n",
    "\n",
    "nums1 = [5, 3, 4, 2]\n",
    "nums2 = [4, 2, 2, 5]\n",
    "print(min_product_sum(nums1, nums2)) \n"
   ]
  },
  {
   "cell_type": "markdown",
   "id": "9b433171-1fb0-499b-9714-6d8ef32a4059",
   "metadata": {},
   "source": [
    "Q6. An integer array original is transformed into a **doubled** array changed by appending **twice the value** of every element in original, and then randomly **shuffling** the resulting array.\n",
    "\n",
    "Given an array changed, return original *if* changed *is a **doubled** array. If* changed *is not a **doubled** array, return an empty array. The elements in* original *may be returned in **any** order*.\n",
    "\n",
    "**Example 1:**\n",
    "\n",
    "**Input:** changed = [1,3,4,2,6,8]\n",
    "\n",
    "**Output:** [1,3,4]\n",
    "\n",
    "**Explanation:** One possible original array could be [1,3,4]:\n",
    "\n",
    "- Twice the value of 1 is 1 * 2 = 2.\n",
    "- Twice the value of 3 is 3 * 2 = 6.\n",
    "- Twice the value of 4 is 4 * 2 = 8.\n",
    "\n",
    "Other original arrays could be [4,3,1] or [3,1,4]."
   ]
  },
  {
   "cell_type": "code",
   "execution_count": 7,
   "id": "e15418cb-9d25-430b-9c17-536b1c9d9bf8",
   "metadata": {},
   "outputs": [
    {
     "name": "stdout",
     "output_type": "stream",
     "text": [
      "[1, 3, 4]\n"
     ]
    }
   ],
   "source": [
    "def original_array(changed):\n",
    "    count = {}\n",
    "    for num in changed:\n",
    "        count[num] = count.get(num, 0) + 1\n",
    "    \n",
    "    result = []\n",
    "    for num in sorted(changed):\n",
    "        if count.get(num, 0) > 0 and count.get(num // 2, 0) > 0:\n",
    "            count[num // 2] -= 1\n",
    "            count[num] -= 1\n",
    "            result.append(num // 2)\n",
    "    \n",
    "    return result if len(result) * 2 == len(changed) else []\n",
    "\n",
    "changed = [1, 3, 4, 2, 6, 8]\n",
    "print(original_array(changed))\n"
   ]
  },
  {
   "cell_type": "markdown",
   "id": "a57c90ad-d218-4200-9c03-492a434a867d",
   "metadata": {},
   "source": [
    "Q7. Given a positive integer n, generate an n x n matrix filled with elements from 1 to n2 in spiral order.\n",
    "\n",
    "**Input:** n = 3\n",
    "\n",
    "**Output:** [[1,2,3],[8,9,4],[7,6,5]]"
   ]
  },
  {
   "cell_type": "code",
   "execution_count": 8,
   "id": "fe9ae99b-58e2-4f0e-8885-381fd164ca77",
   "metadata": {},
   "outputs": [
    {
     "name": "stdout",
     "output_type": "stream",
     "text": [
      "[[1, 2, 3], [8, 9, 4], [7, 6, 5]]\n"
     ]
    }
   ],
   "source": [
    "def generate_matrix(n):\n",
    "    matrix = [[0] * n for _ in range(n)]\n",
    "    top, bottom, left, right = 0, n - 1, 0, n - 1\n",
    "    num = 1\n",
    "\n",
    "    while num <= n * n:\n",
    "        for i in range(left, right + 1):\n",
    "            matrix[top][i] = num\n",
    "            num += 1\n",
    "        top += 1\n",
    "        \n",
    "        for i in range(top, bottom + 1):\n",
    "            matrix[i][right] = num\n",
    "            num += 1\n",
    "        right -= 1\n",
    "\n",
    "        if top <= bottom:\n",
    "         \n",
    "            for i in range(right, left - 1, -1):\n",
    "                matrix[bottom][i] = num\n",
    "                num += 1\n",
    "            bottom -= 1\n",
    "\n",
    "        if left <= right:\n",
    "           \n",
    "            for i in range(bottom, top - 1, -1):\n",
    "                matrix[i][left] = num\n",
    "                num += 1\n",
    "            left += 1\n",
    "\n",
    "    return matrix\n",
    "\n",
    "n = 3\n",
    "print(generate_matrix(n))\n"
   ]
  },
  {
   "cell_type": "markdown",
   "id": "88c274fc-06e4-407c-8bbc-6dfbe1387683",
   "metadata": {
    "jupyter": {
     "source_hidden": true
    },
    "tags": []
   },
   "source": [
    "Q8. Given two [sparse matrices](https://en.wikipedia.org/wiki/Sparse_matrix) mat1 of size m x k and mat2 of size k x n, return the result of mat1 x mat2. You may assume that multiplication is always possible.\n",
    "\n",
    "**Input:** mat1 = [[1,0,0],[-1,0,3]], mat2 = [[7,0,0],[0,0,0],[0,0,1]]\n",
    "\n",
    "**Output:**\n",
    "\n",
    "[[7,0,0],[-7,0,3]]"
   ]
  },
  {
   "cell_type": "code",
   "execution_count": 9,
   "id": "4e3b77d4-033a-4557-9f81-b50b5ea52cd8",
   "metadata": {},
   "outputs": [
    {
     "name": "stdout",
     "output_type": "stream",
     "text": [
      "[[7, 0, 0], [-7, 0, 3]]\n"
     ]
    }
   ],
   "source": [
    "def multiply(mat1, mat2):\n",
    "    m, k = len(mat1), len(mat1[0])\n",
    "    k, n = len(mat2), len(mat2[0])\n",
    "\n",
    "    result = [[0] * n for _ in range(m)]\n",
    "\n",
    "    for i in range(m):\n",
    "        for col1, val1 in enumerate(mat1[i]):\n",
    "            if val1 != 0:\n",
    "                for j in range(n):\n",
    "                    if mat2[col1][j] != 0:\n",
    "                        result[i][j] += val1 * mat2[col1][j]\n",
    "\n",
    "    return result\n",
    "\n",
    "mat1 = [[1,0,0],[-1,0,3]]\n",
    "mat2 = [[7,0,0],[0,0,0],[0,0,1]]\n",
    "print(multiply(mat1, mat2)) "
   ]
  },
  {
   "cell_type": "code",
   "execution_count": null,
   "id": "0a5f6026-93fa-415f-8cc6-f8d6e149abb8",
   "metadata": {},
   "outputs": [],
   "source": []
  }
 ],
 "metadata": {
  "kernelspec": {
   "display_name": "Python 3 (ipykernel)",
   "language": "python",
   "name": "python3"
  },
  "language_info": {
   "codemirror_mode": {
    "name": "ipython",
    "version": 3
   },
   "file_extension": ".py",
   "mimetype": "text/x-python",
   "name": "python",
   "nbconvert_exporter": "python",
   "pygments_lexer": "ipython3",
   "version": "3.10.8"
  }
 },
 "nbformat": 4,
 "nbformat_minor": 5
}
