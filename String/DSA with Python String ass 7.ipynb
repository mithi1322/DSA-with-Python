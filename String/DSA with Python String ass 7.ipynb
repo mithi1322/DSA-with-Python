{
 "cells": [
  {
   "cell_type": "markdown",
   "id": "0a5cc1ba-856b-4583-903a-92529e88197e",
   "metadata": {},
   "source": [
    "Q1. Given two strings s and t, determine if they are isomorphic.Two strings s and t are isomorphic if the characters in s can be replaced to get t.\n",
    "\n",
    "All occurrences of a character must be replaced with another character while preserving the order of characters. No two characters may map to the same character, but a character may map to itself.\n",
    "\n",
    "Example 1:\n",
    "\n",
    "Input: s = \"egg\", t = \"add\"\n",
    "\n",
    "Output: true"
   ]
  },
  {
   "cell_type": "code",
   "execution_count": 1,
   "id": "6e4e732f-ce2b-4c29-a351-7166d5101e2f",
   "metadata": {},
   "outputs": [
    {
     "name": "stdout",
     "output_type": "stream",
     "text": [
      "True\n"
     ]
    }
   ],
   "source": [
    "def is_isomorphic(s, t):\n",
    "    if len(s) != len(t):\n",
    "        return False\n",
    "\n",
    "    mapping_s = {}\n",
    "    mapping_t = {}\n",
    "\n",
    "    for i in range(len(s)):\n",
    "        char_s = s[i]\n",
    "        char_t = t[i]\n",
    "\n",
    "        if char_s in mapping_s:\n",
    "            if mapping_s[char_s] != char_t:\n",
    "                return False\n",
    "        else:\n",
    "            mapping_s[char_s] = char_t\n",
    "\n",
    "        if char_t in mapping_t:\n",
    "            if mapping_t[char_t] != char_s:\n",
    "                return False\n",
    "        else:\n",
    "            mapping_t[char_t] = char_s\n",
    "\n",
    "    return True\n",
    "\n",
    "s = \"egg\"\n",
    "t = \"add\"\n",
    "output = is_isomorphic(s, t)\n",
    "print(output)\n"
   ]
  },
  {
   "cell_type": "markdown",
   "id": "1d8e3cf6-6cf7-49b5-90cc-45caf53c9b9a",
   "metadata": {},
   "source": [
    "Q2. Given a string num which represents an integer, return true *if* num *is a **strobogrammatic number***.\n",
    "\n",
    "A **strobogrammatic number** is a number that looks the same when rotated 180 degrees (looked at upside down).\n",
    "\n",
    "**Example 1:**\n",
    "\n",
    "**Input:** num = \"69\"\n",
    "\n",
    "**Output:**\n",
    "\n",
    "true"
   ]
  },
  {
   "cell_type": "code",
   "execution_count": 2,
   "id": "a4a9615f-d773-426d-b9a4-ab6954accab0",
   "metadata": {},
   "outputs": [
    {
     "name": "stdout",
     "output_type": "stream",
     "text": [
      "True\n"
     ]
    }
   ],
   "source": [
    "def is_strobogrammatic(num):\n",
    "    valid_pairs = {\"0\": \"0\", \"1\": \"1\", \"6\": \"9\", \"8\": \"8\", \"9\": \"6\"}\n",
    "\n",
    "    left, right = 0, len(num) - 1\n",
    "\n",
    "    while left <= right:\n",
    "        if num[left] not in valid_pairs or num[right] not in valid_pairs:\n",
    "            return False\n",
    "\n",
    "        if valid_pairs[num[left]] != num[right]:\n",
    "            return False\n",
    "\n",
    "        left += 1\n",
    "        right -= 1\n",
    "\n",
    "    return True\n",
    "\n",
    "num = \"69\"\n",
    "output = is_strobogrammatic(num)\n",
    "print(output)\n"
   ]
  },
  {
   "cell_type": "markdown",
   "id": "83326f8f-fbca-4558-a89b-e7076cbda328",
   "metadata": {},
   "source": [
    "Q3. Given two non-negative integers, num1 and num2 represented as string, return *the sum of* num1 *and* num2 *as a string*.\n",
    "\n",
    "You must solve the problem without using any built-in library for handling large integers (such as BigInteger). You must also not convert the inputs to integers directly.\n",
    "\n",
    "**Example 1:**\n",
    "\n",
    "**Input:** num1 = \"11\", num2 = \"123\"\n",
    "\n",
    "**Output:**\n",
    "\n",
    "\"134\""
   ]
  },
  {
   "cell_type": "code",
   "execution_count": 3,
   "id": "f1c24945-647b-4d01-9b15-a1bca039b77a",
   "metadata": {},
   "outputs": [
    {
     "name": "stdout",
     "output_type": "stream",
     "text": [
      "134\n"
     ]
    }
   ],
   "source": [
    "def add_strings(num1, num2):\n",
    "    result = []\n",
    "    carry = 0\n",
    "    i, j = len(num1) - 1, len(num2) - 1\n",
    "\n",
    "    while i >= 0 or j >= 0:\n",
    "        if i >= 0:\n",
    "            digit1 = ord(num1[i]) - ord('0')\n",
    "        else:\n",
    "            digit1 = 0\n",
    "\n",
    "        if j >= 0:\n",
    "            digit2 = ord(num2[j]) - ord('0')\n",
    "        else:\n",
    "            digit2 = 0\n",
    "\n",
    "        # Add digits and carry\n",
    "        digit_sum = digit1 + digit2 + carry\n",
    "        carry = digit_sum // 10\n",
    "        digit_sum %= 10\n",
    "\n",
    "        # Prepend sum to the result\n",
    "        result.insert(0, str(digit_sum))\n",
    "\n",
    "        i -= 1\n",
    "        j -= 1\n",
    "\n",
    "    if carry:\n",
    "        result.insert(0, str(carry))\n",
    "\n",
    "    return \"\".join(result)\n",
    "\n",
    "num1 = \"11\"\n",
    "num2 = \"123\"\n",
    "output = add_strings(num1, num2)\n",
    "print(output)\n"
   ]
  },
  {
   "cell_type": "markdown",
   "id": "8df55107-f2f1-46fb-888e-23d5f6f7c50a",
   "metadata": {},
   "source": [
    "Q4. Given a string s, reverse the order of characters in each word within a sentence while still preserving whitespace and initial word order.\n",
    "\n",
    "**Example 1:**\n",
    "\n",
    "**Input:** s = \"Let's take LeetCode contest\"\n",
    "\n",
    "**Output:** \"s'teL ekat edoCteeL tsetnoc\""
   ]
  },
  {
   "cell_type": "code",
   "execution_count": 4,
   "id": "aa759404-d5e5-4bd3-bec4-2dc8e05014e9",
   "metadata": {},
   "outputs": [
    {
     "name": "stdout",
     "output_type": "stream",
     "text": [
      "s'teL ekat edoCteeL tsetnoc\n"
     ]
    }
   ],
   "source": [
    "def reverse_words(s):\n",
    "    words = s.split()\n",
    "\n",
    "    # Reverse each word\n",
    "    reversed_words = [word[::-1] for word in words]\n",
    "\n",
    "    # Join the reversed words with whitespace in between\n",
    "    reversed_sentence = \" \".join(reversed_words)\n",
    "\n",
    "    return reversed_sentence\n",
    "\n",
    "s = \"Let's take LeetCode contest\"\n",
    "output = reverse_words(s)\n",
    "print(output)\n"
   ]
  },
  {
   "cell_type": "markdown",
   "id": "e1eadacd-8c99-4fab-b58d-5d9f74588df1",
   "metadata": {},
   "source": [
    "Q5. Given a string s and an integer k, reverse the first k characters for every 2k characters counting from the start of the string.\n",
    "\n",
    "If there are fewer than k characters left, reverse all of them. If there are less than 2k but greater than or equal to k characters, then reverse the first k characters and leave the other as original.\n",
    "\n",
    "**Example 1:**\n",
    "\n",
    "**Input:** s = \"abcdefg\", k = 2\n",
    "\n",
    "**Output:**\n",
    "\n",
    "\"bacdfeg\""
   ]
  },
  {
   "cell_type": "code",
   "execution_count": 5,
   "id": "c11ad64d-5155-4a86-bd51-d8a5f7da6332",
   "metadata": {},
   "outputs": [
    {
     "name": "stdout",
     "output_type": "stream",
     "text": [
      "bacdfeg\n"
     ]
    }
   ],
   "source": [
    "def reverse_str(s, k):\n",
    "    chars = list(s)\n",
    "\n",
    "    # Iterate through the string with a step size of 2k\n",
    "    for i in range(0, len(chars), 2 * k):\n",
    "        if i + k <= len(chars):\n",
    "            chars[i:i+k] = reversed(chars[i:i+k])\n",
    "        else:\n",
    "            chars[i:] = reversed(chars[i:])\n",
    "\n",
    "    reversed_str = ''.join(chars)\n",
    "\n",
    "    return reversed_str\n",
    "\n",
    "s = \"abcdefg\"\n",
    "k = 2\n",
    "output = reverse_str(s, k)\n",
    "print(output)\n"
   ]
  },
  {
   "cell_type": "markdown",
   "id": "08906443-f1b9-4712-a0fd-ac9b46f7eaa6",
   "metadata": {},
   "source": [
    "Q6. Given two strings s and goal, return true *if and only if* s *can become* goal *after some number of **shifts** on* s.\n",
    "\n",
    "A **shift** on s consists of moving the leftmost character of s to the rightmost position.\n",
    "\n",
    "- For example, if s = \"abcde\", then it will be \"bcdea\" after one shift.\n",
    "\n",
    "**Example 1:**\n",
    "\n",
    "**Input:** s = \"abcde\", goal = \"cdeab\"\n",
    "\n",
    "**Output:**\n",
    "\n",
    "true"
   ]
  },
  {
   "cell_type": "code",
   "execution_count": 6,
   "id": "1c0ef349-080d-4c8e-b226-55128c42195b",
   "metadata": {},
   "outputs": [
    {
     "name": "stdout",
     "output_type": "stream",
     "text": [
      "True\n"
     ]
    }
   ],
   "source": [
    "def can_shift(s, goal):\n",
    "    if goal in s + s:\n",
    "        return True\n",
    "    else:\n",
    "        return False\n",
    "\n",
    "s = \"abcde\"\n",
    "goal = \"cdeab\"\n",
    "output = can_shift(s, goal)\n",
    "print(output)\n"
   ]
  },
  {
   "cell_type": "markdown",
   "id": "b2d0c993-ff93-443f-baa4-a5a4acc29a91",
   "metadata": {},
   "source": [
    "Q7. Given two strings s and t, return true *if they are equal when both are typed into empty text editors*. '#' means a backspace character.\n",
    "\n",
    "Note that after backspacing an empty text, the text will continue empty.\n",
    "\n",
    "**Example 1:**\n",
    "\n",
    "**Input:** s = \"ab#c\", t = \"ad#c\"\n",
    "\n",
    "**Output:** true\n",
    "\n",
    "**Explanation:**\n",
    "\n",
    "Both s and t become \"ac\""
   ]
  },
  {
   "cell_type": "code",
   "execution_count": 7,
   "id": "6db1de7a-2acd-4527-a23e-6fd15a802bdf",
   "metadata": {},
   "outputs": [
    {
     "name": "stdout",
     "output_type": "stream",
     "text": [
      "True\n"
     ]
    }
   ],
   "source": [
    "def type_equal(s, t):\n",
    "    def process_string(string):\n",
    "        stack = []\n",
    "        for char in string:\n",
    "            if char != '#':\n",
    "                stack.append(char)\n",
    "            elif stack:\n",
    "                stack.pop()\n",
    "        return stack\n",
    "\n",
    "    return process_string(s) == process_string(t)\n",
    "\n",
    "# Test the code\n",
    "s = \"ab#c\"\n",
    "t = \"ad#c\"\n",
    "output = type_equal(s, t)\n",
    "print(output)\n"
   ]
  },
  {
   "cell_type": "markdown",
   "id": "282c8dd8-0dc2-4e7a-a2f7-c423c88d6ac4",
   "metadata": {},
   "source": [
    "Q8. You are given an array coordinates, coordinates[i] = [x, y], where [x, y] represents the coordinate of a point. Check if these points make a straight line in the XY plane.\n",
    "\n",
    "**Input:** coordinates = [[1,2],[2,3],[3,4],[4,5],[5,6],[6,7]]\n",
    "\n",
    "**Output:** true"
   ]
  },
  {
   "cell_type": "code",
   "execution_count": 8,
   "id": "9bd807c5-de8f-4195-a46e-883d8e4fc3d0",
   "metadata": {},
   "outputs": [
    {
     "name": "stdout",
     "output_type": "stream",
     "text": [
      "True\n"
     ]
    }
   ],
   "source": [
    "def check_straight_line(coordinates):\n",
    "    # Calculate the slope between two points\n",
    "    def calculate_slope(p1, p2):\n",
    "        x1, y1 = p1\n",
    "        x2, y2 = p2\n",
    "        if x2 - x1 == 0:\n",
    "            return float('inf') \n",
    "        return (y2 - y1) / (x2 - x1)\n",
    "\n",
    "    # Check if all slopes are equal\n",
    "    slope = calculate_slope(coordinates[0], coordinates[1])\n",
    "    for i in range(2, len(coordinates)):\n",
    "        curr_slope = calculate_slope(coordinates[i-1], coordinates[i])\n",
    "        if curr_slope != slope:\n",
    "            return False\n",
    "\n",
    "    return True\n",
    "\n",
    "# Test the code\n",
    "coordinates = [[1,2],[2,3],[3,4],[4,5],[5,6],[6,7]]\n",
    "output = check_straight_line(coordinates)\n",
    "print(output)\n"
   ]
  },
  {
   "cell_type": "code",
   "execution_count": null,
   "id": "cb50160f-8d81-40e4-b05e-a3c4dcfeb692",
   "metadata": {},
   "outputs": [],
   "source": []
  }
 ],
 "metadata": {
  "kernelspec": {
   "display_name": "Python 3 (ipykernel)",
   "language": "python",
   "name": "python3"
  },
  "language_info": {
   "codemirror_mode": {
    "name": "ipython",
    "version": 3
   },
   "file_extension": ".py",
   "mimetype": "text/x-python",
   "name": "python",
   "nbconvert_exporter": "python",
   "pygments_lexer": "ipython3",
   "version": "3.10.8"
  }
 },
 "nbformat": 4,
 "nbformat_minor": 5
}
