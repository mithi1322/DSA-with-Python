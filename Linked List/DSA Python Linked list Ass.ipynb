{
 "cells": [
  {
   "cell_type": "markdown",
   "id": "cf770bcd-ccf1-4a65-adf5-943ba10a013b",
   "metadata": {},
   "source": [
    "Q1. Delete Node in a Linked List :"
   ]
  },
  {
   "cell_type": "code",
   "execution_count": 1,
   "id": "80b0015e-dacb-4d8b-8acb-b9f5c052c5ed",
   "metadata": {},
   "outputs": [],
   "source": [
    "class ListNode:\n",
    "    def __init__(self, val=0, next=None):\n",
    "        self.val = val\n",
    "        self.next = next\n",
    "\n",
    "def delete_node(node):\n",
    "    node.val = node.next.val\n",
    "    node.next = node.next.next\n"
   ]
  },
  {
   "cell_type": "markdown",
   "id": "36d598da-6204-405a-b040-c0d594c08e48",
   "metadata": {},
   "source": [
    "Q2. Remove Linked List Elements:"
   ]
  },
  {
   "cell_type": "code",
   "execution_count": 2,
   "id": "810f4b74-40eb-403e-9f61-721ecf126bfe",
   "metadata": {},
   "outputs": [],
   "source": [
    "def remove_elements(head, val):\n",
    "    dummy = ListNode(0)\n",
    "    dummy.next = head\n",
    "    curr = dummy\n",
    "\n",
    "    while curr.next:\n",
    "        if curr.next.val == val:\n",
    "            curr.next = curr.next.next\n",
    "        else:\n",
    "            curr = curr.next\n",
    "\n",
    "    return dummy.next\n"
   ]
  },
  {
   "cell_type": "markdown",
   "id": "e1cf8b05-0e78-4392-ac36-8eaaffa3e7be",
   "metadata": {},
   "source": [
    "Q3. Merge Two Sorted List: "
   ]
  },
  {
   "cell_type": "code",
   "execution_count": 3,
   "id": "5f0cae78-c0eb-4748-a3fe-6dd76cdf5f05",
   "metadata": {},
   "outputs": [],
   "source": [
    "def merge_two_lists(l1, l2):\n",
    "    dummy = ListNode(0)\n",
    "    curr = dummy\n",
    "\n",
    "    while l1 and l2:\n",
    "        if l1.val < l2.val:\n",
    "            curr.next = l1\n",
    "            l1 = l1.next\n",
    "        else:\n",
    "            curr.next = l2\n",
    "            l2 = l2.next\n",
    "        curr = curr.next\n",
    "\n",
    "    curr.next = l1 if l1 else l2\n",
    "\n",
    "    return dummy.next\n"
   ]
  },
  {
   "cell_type": "markdown",
   "id": "af971275-f470-4bc6-995c-aa0abced2cf0",
   "metadata": {},
   "source": [
    "Q4. Linked List Cycle:"
   ]
  },
  {
   "cell_type": "code",
   "execution_count": 9,
   "id": "efccc71e-844a-4ccd-acdb-d3f5ebd65d48",
   "metadata": {},
   "outputs": [],
   "source": [
    "def list_cycle(head):\n",
    "    slow = head\n",
    "    fast = head\n",
    "\n",
    "    while fast and fast.next:\n",
    "        slow = slow.next\n",
    "        fast = fast.next.next\n",
    "\n",
    "        if slow == fast:\n",
    "            return True\n",
    "\n",
    "    return False\n"
   ]
  },
  {
   "cell_type": "markdown",
   "id": "e5886c33-87ac-47dc-8b62-d7171611a6c8",
   "metadata": {},
   "source": [
    "Q5. Remove the Nth node from the linked list:"
   ]
  },
  {
   "cell_type": "code",
   "execution_count": 13,
   "id": "9cd4e159-a7d7-4e8c-a90e-102024c7c320",
   "metadata": {},
   "outputs": [],
   "source": [
    "class ListNode:\n",
    "    def __init__(self, val=0, next=None):\n",
    "        self.val = val\n",
    "        self.next = next\n",
    "\n",
    "def remove_nth_node(head, n):\n",
    "    dummy = ListNode(0)\n",
    "    dummy.next = head\n",
    "\n",
    "    # Find the length of the linked list\n",
    "    length = 0\n",
    "    curr = head\n",
    "    while curr:\n",
    "        length += 1\n",
    "        curr = curr.next\n",
    "\n",
    "    # Calculate the index of the node to remove\n",
    "    idx_to_remove = length - n\n",
    "\n",
    "    # Traverse the linked list again to find the node before the one to remove\n",
    "    prev = dummy\n",
    "    for _ in range(idx_to_remove):\n",
    "        prev = prev.next\n",
    "\n",
    "    # Remove the Nth node\n",
    "    prev.next = prev.next.next\n",
    "\n",
    "    return dummy.next\n",
    "\n",
    "\n",
    "# Create the linked list: 1 -> 2 -> 3 -> 4 -> 5\n",
    "head = ListNode(1)\n",
    "head.next = ListNode(2)\n",
    "head.next.next = ListNode(3)\n",
    "head.next.next.next = ListNode(4)\n",
    "head.next.next.next.next = ListNode(5)\n",
    "\n",
    "# Call the remove_nth_node function to remove the 2nd node (index 1)\n",
    "new_head = remove_nth_node(head, 2)\n"
   ]
  },
  {
   "cell_type": "markdown",
   "id": "f3d5312f-d3f1-47f2-8084-34f0431db9d3",
   "metadata": {},
   "source": [
    "Q6. Given a singly linked list of size N. The task is to left-shift the linked list by k nodes, where k is a given positive integer smaller than or equal to the length of the linked list.\n",
    "\n",
    "Input: N = 5\n",
    "\n",
    "value[] = {2, 4, 7, 8, 9}\n",
    "\n",
    "k = 3\n",
    "\n",
    "Output: 8 9 2 4 7\n",
    "\n",
    "Explanation:Rotate 1:4 -> 7 -> 8 -> 9 -> 2\n",
    "\n",
    "Rotate 2: 7 -> 8 -> 9 -> 2 -> 4\n",
    "\n",
    "Rotate 3: 8 -> 9 -> 2 -> 4 -> 7"
   ]
  },
  {
   "cell_type": "code",
   "execution_count": 15,
   "id": "a3e05b06-9dd5-474b-8ffd-e339795e5e25",
   "metadata": {},
   "outputs": [
    {
     "name": "stdout",
     "output_type": "stream",
     "text": [
      "7 8 9 2 4 "
     ]
    }
   ],
   "source": [
    "class ListNode:\n",
    "    def __init__(self, val=0, next=None):\n",
    "        self.val = val\n",
    "        self.next = next\n",
    "\n",
    "def left_shift_linked_list(head, k):\n",
    "    if not head or not head.next or k == 0:\n",
    "        return head\n",
    "\n",
    "    # Calculate the length of the linked list\n",
    "    length = 1\n",
    "    current = head\n",
    "    while current.next:\n",
    "        current = current.next\n",
    "        length += 1\n",
    "\n",
    "    # Adjust k to be less than the length of the linked list\n",
    "    k %= length\n",
    "\n",
    "    if k == 0:\n",
    "        return head\n",
    "\n",
    "    # Find the new tail and new head\n",
    "    new_tail = head\n",
    "    for _ in range(length - k - 1):\n",
    "        new_tail = new_tail.next\n",
    "\n",
    "    new_head = new_tail.next\n",
    "    new_tail.next = None\n",
    "    current.next = head\n",
    "\n",
    "    return new_head\n",
    "\n",
    "# Create the linked list from the given input\n",
    "values = [2, 4, 7, 8, 9]\n",
    "nodes = [ListNode(val) for val in values]\n",
    "for i in range(len(nodes) - 1):\n",
    "    nodes[i].next = nodes[i + 1]\n",
    "    head = nodes[0]\n",
    "\n",
    "# Call the function and print the output\n",
    "k = 3\n",
    "result_head = left_shift_linked_list(head, k)\n",
    "\n",
    "# Print the output\n",
    "current = result_head\n",
    "while current:\n",
    "    print(current.val, end=\" \")\n",
    "    current = current.next\n"
   ]
  },
  {
   "cell_type": "markdown",
   "id": "34b870ad-65f2-438c-88e8-28d5829d51e3",
   "metadata": {},
   "source": [
    "Q7. Given the head of a linked list, we repeatedly delete consecutive sequences of nodes that sum to 0 until there are no such sequences.\n",
    "After doing so, return the head of the final linked list.  You may return any such answer.\n",
    "\n",
    "(Note that in the examples below, all sequences are serializations of ListNode objects.)\n",
    "\n",
    "Input: head = [1,2,-3,3,1]\n",
    "\n",
    "Output: [3,1]\n",
    "\n",
    "Note: The answer [1,2,1] would also be accepted.\n"
   ]
  },
  {
   "cell_type": "code",
   "execution_count": 16,
   "id": "a745398b-560d-4231-98a6-49a6f9ca6411",
   "metadata": {},
   "outputs": [
    {
     "name": "stdout",
     "output_type": "stream",
     "text": [
      "3 1 "
     ]
    }
   ],
   "source": [
    "class ListNode:\n",
    "    def __init__(self, val=0, next=None):\n",
    "        self.val = val\n",
    "        self.next = next\n",
    "\n",
    "def delete_consecutive_sum_to_zero(head):\n",
    "    dummy = ListNode(0)\n",
    "    dummy.next = head\n",
    "\n",
    "    sum_dict = {}\n",
    "    prefix_sum = 0\n",
    "\n",
    "    current = dummy\n",
    "    while current:\n",
    "        prefix_sum += current.val\n",
    "        if prefix_sum in sum_dict:\n",
    "            current = sum_dict[prefix_sum].next\n",
    "            sum_val = prefix_sum + current.val\n",
    "            while prefix_sum != sum_val:\n",
    "                sum_dict.pop(sum_val)\n",
    "                current = current.next\n",
    "                sum_val += current.val\n",
    "            sum_dict[prefix_sum].next = current.next\n",
    "        else:\n",
    "            sum_dict[prefix_sum] = current\n",
    "        current = current.next\n",
    "\n",
    "    return dummy.next\n",
    "\n",
    "# Create the linked list from the given input\n",
    "values = [1, 2, -3, 3, 1]\n",
    "nodes = [ListNode(val) for val in values]\n",
    "for i in range(len(nodes) - 1):\n",
    "    nodes[i].next = nodes[i + 1]\n",
    "head = nodes[0]\n",
    "\n",
    "# Call the function and print the output\n",
    "result_head = delete_consecutive_sum_to_zero(head)\n",
    "\n",
    "# Print the output\n",
    "current = result_head\n",
    "while current:\n",
    "    print(current.val, end=\" \")\n",
    "    current = current.next\n"
   ]
  },
  {
   "cell_type": "markdown",
   "id": "96682cc3-117f-482c-9abb-dab7da10957e",
   "metadata": {},
   "source": [
    "Q8. Given the head of a singly linked list, group all the nodes with odd indices together followed by the nodes with even indices, and return the reordered list.\n",
    "The first node is considered odd, and the second node is even, and so on.\n",
    "Note that the relative order inside both the even and odd groups should remain as it was in the input.\n",
    "\n",
    "You must solve the problem in O(1) extra space complexity and O(n) time complexity.\n",
    "\n",
    "Input: head = [1,2,3,4,5]\n",
    "\n",
    "Output: [1,3,5,2,4]"
   ]
  },
  {
   "cell_type": "code",
   "execution_count": 17,
   "id": "859ba844-cc5a-4a12-8f3b-db0b1c123ea1",
   "metadata": {},
   "outputs": [
    {
     "name": "stdout",
     "output_type": "stream",
     "text": [
      "1 3 5 2 4 "
     ]
    }
   ],
   "source": [
    "class ListNode:\n",
    "    def __init__(self, val=0, next=None):\n",
    "        self.val = val\n",
    "        self.next = next\n",
    "\n",
    "def reorder_linked_list(head):\n",
    "    if not head or not head.next:\n",
    "        return head\n",
    "\n",
    "    odd_head = head\n",
    "    even_head = head.next\n",
    "    odd_current = odd_head\n",
    "    even_current = even_head\n",
    "\n",
    "    while even_current and even_current.next:\n",
    "        odd_current.next = even_current.next\n",
    "        odd_current = odd_current.next\n",
    "        even_current.next = odd_current.next\n",
    "        even_current = even_current.next\n",
    "\n",
    "    odd_current.next = even_head\n",
    "    return odd_head\n",
    "\n",
    "# Create the linked list from the given input\n",
    "values = [1, 2, 3, 4, 5]\n",
    "nodes = [ListNode(val) for val in values]\n",
    "for i in range(len(nodes) - 1):\n",
    "    nodes[i].next = nodes[i + 1]\n",
    "head = nodes[0]\n",
    "\n",
    "# Call the function and print the output\n",
    "result_head = reorder_linked_list(head)\n",
    "\n",
    "# Print the output\n",
    "current = result_head\n",
    "while current:\n",
    "    print(current.val, end=\" \")\n",
    "    current = current.next\n"
   ]
  },
  {
   "cell_type": "code",
   "execution_count": null,
   "id": "8303f23b-3186-4eb7-85dd-f5484ddb71db",
   "metadata": {},
   "outputs": [],
   "source": []
  }
 ],
 "metadata": {
  "kernelspec": {
   "display_name": "Python 3 (ipykernel)",
   "language": "python",
   "name": "python3"
  },
  "language_info": {
   "codemirror_mode": {
    "name": "ipython",
    "version": 3
   },
   "file_extension": ".py",
   "mimetype": "text/x-python",
   "name": "python",
   "nbconvert_exporter": "python",
   "pygments_lexer": "ipython3",
   "version": "3.10.8"
  }
 },
 "nbformat": 4,
 "nbformat_minor": 5
}
