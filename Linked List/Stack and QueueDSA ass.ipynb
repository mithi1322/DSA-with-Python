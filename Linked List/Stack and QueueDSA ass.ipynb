{
 "cells": [
  {
   "cell_type": "markdown",
   "id": "83225664-e113-43e4-ad0b-3dc91ef36f80",
   "metadata": {},
   "source": [
    "Q1. Make the String Great:"
   ]
  },
  {
   "cell_type": "code",
   "execution_count": 16,
   "id": "d3e5e11f-dbe5-4964-843f-d0462f9eb9f4",
   "metadata": {},
   "outputs": [
    {
     "name": "stdout",
     "output_type": "stream",
     "text": [
      "leetcode\n"
     ]
    }
   ],
   "source": [
    "def great(s):\n",
    "    stack = []\n",
    "    for char in s:\n",
    "        if stack and stack[-1].lower() == char.lower() and stack[-1] != char:\n",
    "            stack.pop()\n",
    "        else:\n",
    "            stack.append(char)\n",
    "    return ''.join(stack)\n",
    "\n",
    "\n",
    "input_str = \"leEeetcode\"\n",
    "print(great(input_str))\n"
   ]
  },
  {
   "cell_type": "markdown",
   "id": "e43ac342-ffeb-4608-8ace-fa551ccdf80f",
   "metadata": {},
   "source": [
    "Q2. Remove all adjacent duplicates in a String:"
   ]
  },
  {
   "cell_type": "code",
   "execution_count": 17,
   "id": "ce1b3426-e197-41a4-9498-f7dee533acdc",
   "metadata": {},
   "outputs": [
    {
     "name": "stdout",
     "output_type": "stream",
     "text": [
      "ca\n"
     ]
    }
   ],
   "source": [
    "def remove_duplicates(s):\n",
    "    stack = []\n",
    "    for char in s:\n",
    "        if stack and stack[-1] == char:\n",
    "            stack.pop()\n",
    "        else:\n",
    "            stack.append(char)\n",
    "    return ''.join(stack)\n",
    "\n",
    "\n",
    "input_str = \"abbaca\"\n",
    "print(remove_duplicates(input_str)) \n"
   ]
  },
  {
   "cell_type": "markdown",
   "id": "8472cfe0-ecc1-43ad-bb0c-12bc51184ffe",
   "metadata": {},
   "source": [
    "Q3. Online Stock Span:"
   ]
  },
  {
   "cell_type": "code",
   "execution_count": 18,
   "id": "b11a068e-6da4-48b9-8bf0-e9d3e4818508",
   "metadata": {},
   "outputs": [
    {
     "name": "stdout",
     "output_type": "stream",
     "text": [
      "1\n",
      "1\n",
      "1\n",
      "2\n",
      "1\n",
      "4\n",
      "6\n"
     ]
    }
   ],
   "source": [
    "class StockSpanner:\n",
    "    def __init__(self):\n",
    "        self.prices = []\n",
    "        self.spans = []\n",
    "\n",
    "    def next(self, price):\n",
    "        span = 1\n",
    "        while self.prices and self.prices[-1] <= price:\n",
    "            self.prices.pop()\n",
    "            span += self.spans.pop()\n",
    "        self.prices.append(price)\n",
    "        self.spans.append(span)\n",
    "        return span\n",
    "\n",
    "# Test the class\n",
    "stock_spanner = StockSpanner()\n",
    "print(stock_spanner.next(100))  \n",
    "print(stock_spanner.next(80))   \n",
    "print(stock_spanner.next(60))   \n",
    "print(stock_spanner.next(70))   \n",
    "print(stock_spanner.next(60))   \n",
    "print(stock_spanner.next(75))   \n",
    "print(stock_spanner.next(85))  \n"
   ]
  },
  {
   "cell_type": "markdown",
   "id": "83f893b0-4356-44ef-bae8-37539318f433",
   "metadata": {},
   "source": [
    "Q4. Time Needed to buy tickets:"
   ]
  },
  {
   "cell_type": "code",
   "execution_count": 21,
   "id": "324e8a36-6831-43bf-878c-29e952655064",
   "metadata": {},
   "outputs": [
    {
     "name": "stdout",
     "output_type": "stream",
     "text": [
      "6\n"
     ]
    }
   ],
   "source": [
    "def timeNeedToBuy(tickets, k):\n",
    "    num_seconds = 0\n",
    "        \n",
    "    while tickets[k] > 0:\n",
    "        for i in range(len(tickets)):\n",
    "            if tickets[i] > 0 and tickets[k] > 0:\n",
    "                tickets[i] -= 1\n",
    "                num_seconds += 1\n",
    "\n",
    "    return num_seconds\n",
    "\n",
    "\n",
    "tickets =[2,3,2]\n",
    "k = 2\n",
    "time=timeNeedToBuy(tickets,k)\n",
    "print(time)"
   ]
  },
  {
   "cell_type": "markdown",
   "id": "dc58c87f-d001-4d92-b41e-41442217e26e",
   "metadata": {},
   "source": [
    "Q5. Product of the last K Numbers:"
   ]
  },
  {
   "cell_type": "code",
   "execution_count": 22,
   "id": "52a20178-47ec-43ea-ba4b-afbbca6f8ba4",
   "metadata": {},
   "outputs": [
    {
     "name": "stdout",
     "output_type": "stream",
     "text": [
      "20\n",
      "40\n",
      "0\n",
      "0\n"
     ]
    }
   ],
   "source": [
    "class ProductOfNumbers:\n",
    "    def __init__(self):\n",
    "        self.products = [1]\n",
    "\n",
    "    def add(self, num):\n",
    "        if num == 0:\n",
    "            self.products = [1]\n",
    "        else:\n",
    "            self.products.append(self.products[-1] * num)\n",
    "\n",
    "    def getProduct(self, k):\n",
    "        if k >= len(self.products):\n",
    "            return 0\n",
    "        return self.products[-1] // self.products[-k - 1]\n",
    "\n",
    "# Test the class\n",
    "product_of_numbers = ProductOfNumbers()\n",
    "product_of_numbers.add(3)\n",
    "product_of_numbers.add(0)\n",
    "product_of_numbers.add(2)\n",
    "product_of_numbers.add(5)\n",
    "product_of_numbers.add(4)\n",
    "\n",
    "print(product_of_numbers.getProduct(2))  \n",
    "print(product_of_numbers.getProduct(3))  \n",
    "print(product_of_numbers.getProduct(4))  \n",
    "print(product_of_numbers.getProduct(5)) \n"
   ]
  },
  {
   "cell_type": "markdown",
   "id": "b3463357-df6c-42f9-82ab-abf6562bdae3",
   "metadata": {},
   "source": [
    "Q6. Largest Rectangle in Histogram:"
   ]
  },
  {
   "cell_type": "code",
   "execution_count": 23,
   "id": "f8634ff5-6577-4be8-876e-de09243c19f5",
   "metadata": {},
   "outputs": [
    {
     "name": "stdout",
     "output_type": "stream",
     "text": [
      "10\n"
     ]
    }
   ],
   "source": [
    "def largest_rectangle(heights):\n",
    "    stack = []\n",
    "    max_area = 0\n",
    "\n",
    "    for i in range(len(heights)):\n",
    "        while stack and heights[i] < heights[stack[-1]]:\n",
    "            height = heights[stack.pop()]\n",
    "            width = i if not stack else i - stack[-1] - 1\n",
    "            max_area = max(max_area, height * width)\n",
    "        stack.append(i)\n",
    "\n",
    "    while stack:\n",
    "        height = heights[stack.pop()]\n",
    "        width = len(heights) if not stack else len(heights) - stack[-1] - 1\n",
    "        max_area = max(max_area, height * width)\n",
    "\n",
    "    return max_area\n",
    "\n",
    "# Test the function\n",
    "histogram = [2, 1, 5, 6, 2, 3]\n",
    "print(largest_rectangle(histogram))\n"
   ]
  },
  {
   "cell_type": "markdown",
   "id": "5946207e-5181-46ee-aa1e-b370b63f3ad3",
   "metadata": {},
   "source": [
    "Q7. Sliding Window Maximum:"
   ]
  },
  {
   "cell_type": "code",
   "execution_count": 24,
   "id": "e5fde91c-b49b-4d4b-a5a6-6bbc945fa019",
   "metadata": {},
   "outputs": [
    {
     "name": "stdout",
     "output_type": "stream",
     "text": [
      "[3, 3, 5, 5, 6, 7]\n"
     ]
    }
   ],
   "source": [
    "from collections import deque\n",
    "\n",
    "def max_sliding_window(nums, k):\n",
    "    max_values = []\n",
    "    window = deque()\n",
    "\n",
    "    for i in range(len(nums)):\n",
    "        while window and nums[i] >= nums[window[-1]]:\n",
    "            window.pop()\n",
    "        window.append(i)\n",
    "\n",
    "        if i >= k - 1:\n",
    "            max_values.append(nums[window[0]])\n",
    "\n",
    "        if window[0] == i - k + 1:\n",
    "            window.popleft()\n",
    "\n",
    "    return max_values\n",
    "\n",
    "# Test the function\n",
    "nums = [1, 3, -1, -3, 5, 3, 6, 7]\n",
    "k = 3\n",
    "print(max_sliding_window(nums, k))\n"
   ]
  },
  {
   "cell_type": "markdown",
   "id": "9744dabf-5a84-4c6a-93e9-0a49101b1336",
   "metadata": {},
   "source": [
    "Q8. Design a circular queue data structure with the following operations: enQueue, deQueue, Front, Rear, and isEmpty."
   ]
  },
  {
   "cell_type": "code",
   "execution_count": 25,
   "id": "250f80db-2c72-4a50-8174-1505b35fd170",
   "metadata": {},
   "outputs": [
    {
     "name": "stdout",
     "output_type": "stream",
     "text": [
      "Initial queue\n",
      "1 2 3 4 5 \n",
      "After removing an element from the queue\n",
      "2 3 4 5 \n"
     ]
    }
   ],
   "source": [
    "# Circular Queue implementation in Python\n",
    "class MyCircularQueue():\n",
    "\n",
    "    def __init__(self, k):\n",
    "        self.k = k\n",
    "        self.queue = [None] * k\n",
    "        self.head = self.tail = -1\n",
    "\n",
    "    # Insert an element into the circular queue\n",
    "    def enqueue(self, data):\n",
    "\n",
    "        if ((self.tail + 1) % self.k == self.head):\n",
    "            print(\"The circular queue is full\\n\")\n",
    "\n",
    "        elif (self.head == -1):\n",
    "            self.head = 0\n",
    "            self.tail = 0\n",
    "            self.queue[self.tail] = data\n",
    "        else:\n",
    "            self.tail = (self.tail + 1) % self.k\n",
    "            self.queue[self.tail] = data\n",
    "\n",
    "    # Delete an element from the circular queue\n",
    "    def dequeue(self):\n",
    "        if (self.head == -1):\n",
    "            print(\"The circular queue is empty\\n\")\n",
    "\n",
    "        elif (self.head == self.tail):\n",
    "            temp = self.queue[self.head]\n",
    "            self.head = -1\n",
    "            self.tail = -1\n",
    "            return temp\n",
    "        else:\n",
    "            temp = self.queue[self.head]\n",
    "            self.head = (self.head + 1) % self.k\n",
    "            return temp\n",
    "\n",
    "    def printCQueue(self):\n",
    "        if(self.head == -1):\n",
    "            print(\"No element in the circular queue\")\n",
    "\n",
    "        elif (self.tail >= self.head):\n",
    "            for i in range(self.head, self.tail + 1):\n",
    "                print(self.queue[i], end=\" \")\n",
    "            print()\n",
    "        else:\n",
    "            for i in range(self.head, self.k):\n",
    "                print(self.queue[i], end=\" \")\n",
    "            for i in range(0, self.tail + 1):\n",
    "                print(self.queue[i], end=\" \")\n",
    "            print()\n",
    "\n",
    "\n",
    "# Your MyCircularQueue object will be instantiated and called as such:\n",
    "obj = MyCircularQueue(5)\n",
    "obj.enqueue(1)\n",
    "obj.enqueue(2)\n",
    "obj.enqueue(3)\n",
    "obj.enqueue(4)\n",
    "obj.enqueue(5)\n",
    "print(\"Initial queue\")\n",
    "obj.printCQueue()\n",
    "\n",
    "obj.dequeue()\n",
    "print(\"After removing an element from the queue\")\n",
    "obj.printCQueue()\n"
   ]
  },
  {
   "cell_type": "code",
   "execution_count": null,
   "id": "7fd4f9e8-d596-4f4a-9855-8dac166c8e50",
   "metadata": {},
   "outputs": [],
   "source": []
  }
 ],
 "metadata": {
  "kernelspec": {
   "display_name": "Python 3 (ipykernel)",
   "language": "python",
   "name": "python3"
  },
  "language_info": {
   "codemirror_mode": {
    "name": "ipython",
    "version": 3
   },
   "file_extension": ".py",
   "mimetype": "text/x-python",
   "name": "python",
   "nbconvert_exporter": "python",
   "pygments_lexer": "ipython3",
   "version": "3.10.8"
  }
 },
 "nbformat": 4,
 "nbformat_minor": 5
}
