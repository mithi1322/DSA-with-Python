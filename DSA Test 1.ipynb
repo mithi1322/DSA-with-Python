{
 "cells": [
  {
   "cell_type": "markdown",
   "id": "657a6540-a9bd-4d7f-b06b-6c19c6c4f84f",
   "metadata": {},
   "source": [
    "Move Zeroes\n",
    "\n",
    "Given an integer array nums, move all 0's to the end of it while maintaining the relative order of the non-zero elements.\n",
    "\n",
    "Note that you must do this in-place without making a copy of the array.\n",
    "\n",
    "Example 1:\n",
    "Input: nums = [0,1,0,3,12]\n",
    "Output: [1,3,12,0,0]\n",
    "\n",
    "Example 2:\n",
    "Input: nums = [0]\n",
    "Output: [0]\n",
    "\n",
    "Constraints:\n",
    "a. 1 <= nums.length <= 10^4\n",
    "b. -2^31 <= nums[i] <= 2^31 - 1\n",
    "\n",
    "Note: Create a GitHub file for the solution and add the file link the the answer section below."
   ]
  },
  {
   "cell_type": "code",
   "execution_count": 1,
   "id": "c8b69a3c-626b-44e5-99c1-dcceffbde074",
   "metadata": {},
   "outputs": [
    {
     "name": "stdout",
     "output_type": "stream",
     "text": [
      "[1, 3, 12, 0, 0]\n",
      "[0]\n"
     ]
    }
   ],
   "source": [
    "def move_zeroes(nums):\n",
    "    non_zero_ptr = 0\n",
    "    for i in range(len(nums)):\n",
    "    \n",
    "        if nums[i] != 0:\n",
    "            nums[i], nums[non_zero_ptr] = nums[non_zero_ptr], nums[i]\n",
    "            non_zero_ptr += 1\n",
    "    \n",
    "    return nums\n",
    "\n",
    "nums1 = [0, 1, 0, 3, 12]\n",
    "print(move_zeroes(nums1)) \n",
    "\n",
    "nums2 = [0]\n",
    "print(move_zeroes(nums2))\n"
   ]
  },
  {
   "cell_type": "markdown",
   "id": "81797970-cefc-4a4b-bfe4-6b8e45117fd2",
   "metadata": {},
   "source": [
    "First Unique Character in a String\n",
    "\n",
    "Given a string s, find the first non-repeating character in it and return its index. If it does not exist, return -1.\n",
    "\n",
    "Example 1:\n",
    "Input: s = \"leetcode\"\n",
    "Output: 0\n",
    "\n",
    "Example 2:\n",
    "Input: s = \"loveleetcode\"\n",
    "Output: 2\n",
    "\n",
    "Example 3:\n",
    "Input: s = \"aabb\"\n",
    "Output: -1\n",
    "\n",
    "Constraints:\n",
    "a. 1 <= s.length <= 10^5\n",
    "b. s consists of only lowercase English letters.\n",
    "\n",
    "Note: Create a GitHub file for the solution and add the file link the the answer section below."
   ]
  },
  {
   "cell_type": "code",
   "execution_count": 2,
   "id": "3e0f048e-2507-433a-a1d5-a6b2f8e8a510",
   "metadata": {},
   "outputs": [
    {
     "name": "stdout",
     "output_type": "stream",
     "text": [
      "0\n",
      "2\n",
      "-1\n"
     ]
    }
   ],
   "source": [
    "def first_uniq_char(s):\n",
    "    char_count = {}\n",
    "    for char in s:\n",
    "        char_count[char] = char_count.get(char, 0) + 1\n",
    "    \n",
    "    for i in range(len(s)):\n",
    "        if char_count[s[i]] == 1:\n",
    "            return i\n",
    "    \n",
    "    return -1\n",
    "\n",
    "s1 = \"leetcode\"\n",
    "print(first_uniq_char(s1))\n",
    "\n",
    "s2 = \"loveleetcode\"\n",
    "print(first_uniq_char(s2))\n",
    "\n",
    "s3 = \"aabb\"\n",
    "print(first_uniq_char(s3))\n"
   ]
  },
  {
   "cell_type": "code",
   "execution_count": null,
   "id": "9aad4d38-86ca-4288-b2d8-e03b8d22b2c4",
   "metadata": {},
   "outputs": [],
   "source": []
  }
 ],
 "metadata": {
  "kernelspec": {
   "display_name": "Python 3 (ipykernel)",
   "language": "python",
   "name": "python3"
  },
  "language_info": {
   "codemirror_mode": {
    "name": "ipython",
    "version": 3
   },
   "file_extension": ".py",
   "mimetype": "text/x-python",
   "name": "python",
   "nbconvert_exporter": "python",
   "pygments_lexer": "ipython3",
   "version": "3.10.8"
  }
 },
 "nbformat": 4,
 "nbformat_minor": 5
}
