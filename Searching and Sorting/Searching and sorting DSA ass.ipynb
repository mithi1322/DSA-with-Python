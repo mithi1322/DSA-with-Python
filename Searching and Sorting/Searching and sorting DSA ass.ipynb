{
 "cells": [
  {
   "cell_type": "markdown",
   "id": "4870546c-b5b9-4b07-93f5-4ba370979122",
   "metadata": {},
   "source": [
    "Q1. Given a 1-indexed array of integers numbers that are already sorted in non-decreasing order, find two numbers such that they add up to a specific target number. Let these two numbers be numbers[index1] and numbers[index2] where 1 <= index1 < index2 < numbers.length.\n",
    "\n",
    "Return the indices of the two numbers, index1, and index2, added by one as an integer array [index1, index2] of length 2.\n",
    "\n",
    "The tests are generated such that there is exactly one solution. You may not use the same element twice.\n",
    "\n",
    "Your solution must use only constant extra space.\n",
    "\n",
    "Input: numbers = [2,7,11,15], target = 9\n",
    "\n",
    "Output: [1,2]\n",
    "\n",
    "Explanation: The sum of 2 and 7 is 9. Therefore, index1 = 1, index2 = 2. We return [1, 2]."
   ]
  },
  {
   "cell_type": "code",
   "execution_count": 1,
   "id": "700da192-4036-4365-b251-61006a223550",
   "metadata": {},
   "outputs": [
    {
     "name": "stdout",
     "output_type": "stream",
     "text": [
      "[1, 2]\n"
     ]
    }
   ],
   "source": [
    "def TwoSum(numbers, target):\n",
    "    left = 0\n",
    "    right = len(numbers) - 1\n",
    "    \n",
    "    while left < right:\n",
    "        curr_sum = numbers[left] + numbers[right]\n",
    "        if curr_sum == target:\n",
    "            return [left+1, right+1]  # adding 1 to indices to match the 1-indexing\n",
    "        elif curr_sum < target:\n",
    "            left += 1\n",
    "        else:\n",
    "            right -= 1\n",
    "    \n",
    "    return None  # No solution found\n",
    "\n",
    "numbers = [2, 7, 11, 15]\n",
    "target = 9\n",
    "print(TwoSum(numbers, target))\n"
   ]
  },
  {
   "cell_type": "markdown",
   "id": "dfd19447-16ac-447a-85ac-720368e3932a",
   "metadata": {},
   "source": [
    "Q2. Given an array of integer nums sorted in non-decreasing order, find the starting and ending position of a given target value.\n",
    "\n",
    "If the target is not found in the array, return [-1, -1].\n",
    "\n",
    "You must write an algorithm with O(log n) runtime complexity\n",
    "\n",
    "Input: nums = [5,7,7,8,8,10], target = 8\n",
    "\n",
    "Output: [3,4]\n"
   ]
  },
  {
   "cell_type": "code",
   "execution_count": 2,
   "id": "e310faf5-7097-4be8-bb9b-d05775218746",
   "metadata": {},
   "outputs": [
    {
     "name": "stdout",
     "output_type": "stream",
     "text": [
      "[3, 4]\n"
     ]
    }
   ],
   "source": [
    "def find_target_range(nums, target):\n",
    "    def find_leftmost(target):\n",
    "        left, right = 0, len(nums) - 1\n",
    "        while left <= right:\n",
    "            mid = left + (right - left) // 2\n",
    "            if nums[mid] >= target:\n",
    "                right = mid - 1\n",
    "            else:\n",
    "                left = mid + 1\n",
    "        return left\n",
    "\n",
    "    def find_rightmost(target):\n",
    "        left, right = 0, len(nums) - 1\n",
    "        while left <= right:\n",
    "            mid = left + (right - left) // 2\n",
    "            if nums[mid] <= target:\n",
    "                left = mid + 1\n",
    "            else:\n",
    "                right = mid - 1\n",
    "        return right\n",
    "\n",
    "    leftmost = find_leftmost(target)\n",
    "    rightmost = find_rightmost(target)\n",
    "\n",
    "    if leftmost <= rightmost:\n",
    "        return [leftmost, rightmost]\n",
    "    else:\n",
    "        return [-1, -1]\n",
    "\n",
    "# Test\n",
    "nums = [5, 7, 7, 8, 8, 10]\n",
    "target = 8\n",
    "output = find_target_range(nums, target)\n",
    "print(output) \n"
   ]
  },
  {
   "cell_type": "markdown",
   "id": "e9c813b5-83ae-4266-bee1-8b529e224d51",
   "metadata": {},
   "source": [
    "Q3. A peak element is an element that is strictly greater than its neighbors.\n",
    "\n",
    "Given a 0-indexed integer array nums, find a peak element, and return its index. If the array contains multiple peaks, return the index to any of the peaks.\n",
    "\n",
    "You may imagine that nums[-1] = nums[n] = -∞. In other words, an element is always considered to be strictly greater than a neighbor that is outside the array.\n",
    "\n",
    "You must write an algorithm that runs in O(log n) time.\n",
    "\n",
    "Input: nums = [1,2,3,1]\n",
    "\n",
    "Output: 2"
   ]
  },
  {
   "cell_type": "code",
   "execution_count": 3,
   "id": "0a346ff3-bef2-4ada-a79a-ac10c3469d25",
   "metadata": {},
   "outputs": [
    {
     "name": "stdout",
     "output_type": "stream",
     "text": [
      "2\n"
     ]
    }
   ],
   "source": [
    "def find_peak_element(nums):\n",
    "    left = 0\n",
    "    right = len(nums) - 1\n",
    "    \n",
    "    while left < right:\n",
    "        mid = left + (right - left) // 2\n",
    "        \n",
    "        if nums[mid] > nums[mid+1]:\n",
    "            right = mid\n",
    "        else:\n",
    "            left = mid + 1\n",
    "    \n",
    "    return left\n",
    "\n",
    "nums = [1, 2, 3, 1]\n",
    "print(find_peak_element(nums)) \n"
   ]
  },
  {
   "cell_type": "markdown",
   "id": "dddc1edf-3f69-4b58-9bf9-16150a9384f3",
   "metadata": {},
   "source": [
    "Q4. Explanation: 3 is a peak element and your function should return the index number 2.\n",
    "\n",
    "Given a sorted array of distinct integers and a target value, return the index if the target is found. If not, return the index where it would be if it were inserted in order.\n",
    "\n",
    "You must write an algorithm with O(log n) runtime complexity.\n",
    "\n",
    "Input: nums = [1,3,5,6], target = 5\n",
    "\n",
    "Output: 2\n",
    "\n",
    "Input: nums = [1,3,5,6], target = 7\n",
    "\n",
    "Output: 4\n"
   ]
  },
  {
   "cell_type": "code",
   "execution_count": 4,
   "id": "a68891a1-7ff1-428f-a052-88a247fcb4c5",
   "metadata": {},
   "outputs": [
    {
     "name": "stdout",
     "output_type": "stream",
     "text": [
      "2\n",
      "4\n"
     ]
    }
   ],
   "source": [
    "def search_insert(nums, target):\n",
    "    left = 0\n",
    "    right = len(nums) - 1\n",
    "    \n",
    "    while left <= right:\n",
    "        mid = left + (right - left) // 2\n",
    "        \n",
    "        if nums[mid] == target:\n",
    "            return mid\n",
    "        elif nums[mid] < target:\n",
    "            left = mid + 1\n",
    "        else:\n",
    "            right = mid - 1\n",
    "    \n",
    "    return left\n",
    "\n",
    "nums = [1, 3, 5, 6]\n",
    "target = 5\n",
    "print(search_insert(nums, target))  \n",
    "\n",
    "target = 7\n",
    "print(search_insert(nums, target)) \n"
   ]
  },
  {
   "cell_type": "markdown",
   "id": "59c70dc2-d19f-4c50-9a73-9993bb9a1034",
   "metadata": {},
   "source": [
    "Q5. Find the majority element in the array. A majority element in an array A[] of size n is an element that appears more than n/2 times (and hence there is at most one such element). \n",
    "\n",
    "Input: A[]={3, 3, 4, 2, 4, 4, 2, 4, 4}\n",
    "\n",
    "Output: 4\n",
    "\n",
    "Explanation: The frequency of 4 is 5 which is greater than half of the size of the array size. \n"
   ]
  },
  {
   "cell_type": "code",
   "execution_count": 5,
   "id": "60f514f6-e1d3-4a18-9196-1552257bc7c0",
   "metadata": {},
   "outputs": [
    {
     "name": "stdout",
     "output_type": "stream",
     "text": [
      "4\n"
     ]
    }
   ],
   "source": [
    "from collections import Counter\n",
    "\n",
    "def majority_element(nums):\n",
    "    counts = Counter(nums)\n",
    "    n = len(nums)\n",
    "    \n",
    "    for num, count in counts.items():\n",
    "        if count > n // 2:\n",
    "            return num\n",
    "    \n",
    "    return None\n",
    "\n",
    "nums = [3, 3, 4, 2, 4, 4, 2, 4, 4]\n",
    "print(majority_element(nums)) \n"
   ]
  },
  {
   "cell_type": "markdown",
   "id": "6cb849af-ff47-4d30-b3b1-99f74df1d07c",
   "metadata": {},
   "source": [
    "Q6. You are a product manager and currently leading a team to develop a new product. Unfortunately, the latest version of your product fails the quality check. Since each version is developed based on the previous version, all the versions after a bad version are also bad.\n",
    "\n",
    "Suppose you have n versions [1, 2, ..., n] and you want to find out the first bad one, which causes all the following ones to be bad.\n",
    "\n",
    "You are given an API bool isBadVersion(version) which returns whether the version is bad. Implement a function to find the first bad version. You should minimize the number of calls to the API.\n",
    "\n",
    "Input: n = 5, bad = 4\n",
    "\n",
    "Output: 4\n",
    "\n",
    "Explanation:\n",
    "\n",
    "call isBadVersion(3) -> false\n",
    "\n",
    "call isBadVersion(5) -> true\n",
    "\n",
    "call isBadVersion(4) -> true\n",
    "\n",
    "Then 4 is the first bad version."
   ]
  },
  {
   "cell_type": "code",
   "execution_count": 6,
   "id": "c839e81b-415f-4872-8ae9-d3a57aadfbd6",
   "metadata": {},
   "outputs": [
    {
     "name": "stdout",
     "output_type": "stream",
     "text": [
      "4\n"
     ]
    }
   ],
   "source": [
    "def first_bad_version(n):\n",
    "    left, right = 1, n\n",
    "\n",
    "    while left < right:\n",
    "        mid = left + (right - left) // 2\n",
    "\n",
    "        if is_bad_version(mid):\n",
    "            right = mid\n",
    "        else:\n",
    "            left = mid + 1\n",
    "\n",
    "    return left\n",
    "\n",
    "# Example function to simulate the API call (You can replace this with the actual API function)\n",
    "def is_bad_version(version):\n",
    "    bad_versions = {4, 5}  # Example: Set of bad versions\n",
    "    return version in bad_versions\n",
    "\n",
    "# Test\n",
    "n = 5\n",
    "output = first_bad_version(n)\n",
    "print(output) \n"
   ]
  },
  {
   "cell_type": "markdown",
   "id": "7aa16672-3c26-4a24-ae1b-3ba9173b7b4d",
   "metadata": {},
   "source": [
    "Q7. Given an array of integers, find the inversion of an array. Formally, two elements a[i] and a[j] form an inversion if a[i] > a[j] and i < j.\n",
    "\n",
    "N=5, arr = {2, 4, 1, 3, 5}\n",
    "\n",
    "Output: 3\n",
    "\n",
    "Explanation: (2,1) (4,1) and (4,3) forms an inversion in an array\n"
   ]
  },
  {
   "cell_type": "code",
   "execution_count": 8,
   "id": "cc36c0d5-70ff-4b8d-b2fa-d81912faccb3",
   "metadata": {},
   "outputs": [
    {
     "name": "stdout",
     "output_type": "stream",
     "text": [
      "3\n"
     ]
    }
   ],
   "source": [
    "def count_inversions(arr):\n",
    "    return merge_sort(arr, 0, len(arr) - 1)\n",
    "\n",
    "def merge_sort(arr, left, right):\n",
    "    if left < right:\n",
    "        mid = left + (right - left) // 2\n",
    "        inversions = merge_sort(arr, left, mid) + merge_sort(arr, mid + 1, right)\n",
    "        inversions += merge(arr, left, mid, right)\n",
    "        return inversions\n",
    "    else:\n",
    "        return 0\n",
    "\n",
    "def merge(arr, left, mid, right):\n",
    "    inversions = 0\n",
    "    left_arr = arr[left:mid+1]\n",
    "    right_arr = arr[mid+1:right+1]\n",
    "    i = j = 0\n",
    "    k = left\n",
    "    \n",
    "    while i < len(left_arr) and j < len(right_arr):\n",
    "        if left_arr[i] <= right_arr[j]:\n",
    "            arr[k] = left_arr[i]\n",
    "            i += 1\n",
    "        else:\n",
    "            arr[k] = right_arr[j]\n",
    "            j += 1\n",
    "            inversions += (mid - left + 1) - i\n",
    "        k += 1\n",
    "    \n",
    "    while i < len(left_arr):\n",
    "        arr[k] = left_arr[i]\n",
    "        i += 1\n",
    "        k += 1\n",
    "    \n",
    "    while j < len(right_arr):\n",
    "        arr[k] = right_arr[j]\n",
    "        j += 1\n",
    "        k += 1\n",
    "    \n",
    "    return inversions\n",
    "\n",
    "N = 5\n",
    "arr = [2, 4, 1, 3, 5]\n",
    "print(count_inversions(arr))\n"
   ]
  },
  {
   "cell_type": "markdown",
   "id": "800dd32e-6f0f-4512-9f1a-4ec12a2fac1c",
   "metadata": {},
   "source": [
    "Q8. Given three arrays sorted in non-decreasing order, print all common elements in these arrays.\n",
    "\n",
    "ar1[] = {1, 5, 10, 20, 40, 80} \n",
    "\n",
    "ar2[] = {6, 7, 20, 80, 100} \n",
    "\n",
    "ar3[] = {3, 4, 15, 20, 30, 70, 80, 120} \n",
    "\n",
    "Output: 20, 80"
   ]
  },
  {
   "cell_type": "code",
   "execution_count": 9,
   "id": "146012dd-1a94-40e0-bdf9-be59a28a71cf",
   "metadata": {},
   "outputs": [
    {
     "name": "stdout",
     "output_type": "stream",
     "text": [
      "[20, 80]\n"
     ]
    }
   ],
   "source": [
    "def common_elements(arr1, arr2, arr3):\n",
    "    common = []\n",
    "    i = j = k = 0\n",
    "    \n",
    "    while i < len(arr1) and j < len(arr2) and k < len(arr3):\n",
    "        if arr1[i] == arr2[j] == arr3[k]:\n",
    "            common.append(arr1[i])\n",
    "            i += 1\n",
    "            j += 1\n",
    "            k += 1\n",
    "        elif arr1[i] <= arr2[j] and arr1[i] <= arr3[k]:\n",
    "            i += 1\n",
    "        elif arr2[j] <= arr1[i] and arr2[j] <= arr3[k]:\n",
    "            j += 1\n",
    "        else:\n",
    "            k += 1\n",
    "    \n",
    "    return common\n",
    "\n",
    "arr1 = [1, 5, 10, 20, 40, 80]\n",
    "arr2 = [6, 7, 20, 80, 100]\n",
    "arr3 = [3, 4, 15, 20, 30, 70, 80, 120]\n",
    "print(common_elements(arr1, arr2, arr3)) \n"
   ]
  },
  {
   "cell_type": "code",
   "execution_count": null,
   "id": "7a7627ec-694b-4b53-9af0-1ba7e17a203f",
   "metadata": {},
   "outputs": [],
   "source": []
  }
 ],
 "metadata": {
  "kernelspec": {
   "display_name": "Python 3 (ipykernel)",
   "language": "python",
   "name": "python3"
  },
  "language_info": {
   "codemirror_mode": {
    "name": "ipython",
    "version": 3
   },
   "file_extension": ".py",
   "mimetype": "text/x-python",
   "name": "python",
   "nbconvert_exporter": "python",
   "pygments_lexer": "ipython3",
   "version": "3.10.8"
  }
 },
 "nbformat": 4,
 "nbformat_minor": 5
}
