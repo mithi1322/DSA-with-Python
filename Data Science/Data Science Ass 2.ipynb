{
 "cells": [
  {
   "cell_type": "markdown",
   "id": "bbaed8bf-9841-4b2e-89f2-06871678b462",
   "metadata": {},
   "source": [
    "1. Scenario: A company wants to analyze the sales performance of its products in different regions. They have collected the following data:\n",
    "   Region A: [10, 15, 12, 8, 14]\n",
    "   Region B: [18, 20, 16, 22, 25]\n",
    "   Calculate the mean sales for each region."
   ]
  },
  {
   "cell_type": "code",
   "execution_count": 1,
   "id": "a6a502c9-8a77-47e9-9679-123b1434945d",
   "metadata": {},
   "outputs": [
    {
     "name": "stdout",
     "output_type": "stream",
     "text": [
      "Mean sales for Region A: 11.8\n",
      "Mean sales for Region B: 20.2\n"
     ]
    }
   ],
   "source": [
    "region_a = [10, 15, 12, 8, 14]\n",
    "region_b = [18, 20, 16, 22, 25]\n",
    "\n",
    "mean_region_a = sum(region_a) / len(region_a)\n",
    "mean_region_b = sum(region_b) / len(region_b)\n",
    "\n",
    "print(\"Mean sales for Region A:\", mean_region_a)\n",
    "print(\"Mean sales for Region B:\", mean_region_b)"
   ]
  },
  {
   "cell_type": "markdown",
   "id": "011a2dfc-4ad3-4457-bb3d-2343bfa45ff0",
   "metadata": {},
   "source": [
    "2. Scenario: A survey is conducted to measure customer satisfaction on a scale of 1 to 5. The data collected is as follows:\n",
    "   [4, 5, 2, 3, 5, 4, 3, 2, 4, 5]\n",
    "   Calculate the mode of the survey responses."
   ]
  },
  {
   "cell_type": "code",
   "execution_count": 2,
   "id": "86375f83-d6ce-43aa-b971-b6a26de67bd4",
   "metadata": {},
   "outputs": [
    {
     "name": "stdout",
     "output_type": "stream",
     "text": [
      "Mode of survey responses: 4\n"
     ]
    }
   ],
   "source": [
    "survey_responses = [4, 5, 2, 3, 5, 4, 3, 2, 4, 5]\n",
    "\n",
    "mode = max(set(survey_responses), key=survey_responses.count)\n",
    "print(\"Mode of survey responses:\", mode)"
   ]
  },
  {
   "cell_type": "markdown",
   "id": "88ce88c8-7b45-44c7-b784-54d51d984d61",
   "metadata": {},
   "source": [
    "3. Scenario: A company wants to compare the salaries of two departments. The salary data for Department A and Department B are as follows:\n",
    "   Department A: [5000, 6000, 5500, 7000]\n",
    "   Department B: [4500, 5500, 5800, 6000, 5200]\n",
    "   Calculate the median salary for each department."
   ]
  },
  {
   "cell_type": "code",
   "execution_count": 3,
   "id": "25f1623e-3e98-4297-92e9-4f63d0c46556",
   "metadata": {},
   "outputs": [
    {
     "name": "stdout",
     "output_type": "stream",
     "text": [
      "Median salary for Department A: 6000\n",
      "Median salary for Department B: 5500\n"
     ]
    }
   ],
   "source": [
    "department_a = [5000, 6000, 5500, 7000]\n",
    "department_b = [4500, 5500, 5800, 6000, 5200]\n",
    "\n",
    "median_department_a = sorted(department_a)[len(department_a) // 2]\n",
    "median_department_b = sorted(department_b)[len(department_b) // 2]\n",
    "\n",
    "print(\"Median salary for Department A:\", median_department_a)\n",
    "print(\"Median salary for Department B:\", median_department_b)\n"
   ]
  },
  {
   "cell_type": "markdown",
   "id": "1470cc4c-fef4-4c9a-9364-d5e01b683db0",
   "metadata": {},
   "source": [
    "4. Scenario: A data analyst wants to determine the variability in the daily stock prices of a company. The data collected is as follows:\n",
    "   [25.5, 24.8, 26.1, 25.3, 24.9]\n",
    "   Calculate the range of the stock prices."
   ]
  },
  {
   "cell_type": "code",
   "execution_count": 4,
   "id": "0e246690-99ec-46f1-bc27-633a8aab8890",
   "metadata": {},
   "outputs": [
    {
     "name": "stdout",
     "output_type": "stream",
     "text": [
      "Range of stock prices: 1.3000000000000007\n"
     ]
    }
   ],
   "source": [
    "stock_prices = [25.5, 24.8, 26.1, 25.3, 24.9]\n",
    "\n",
    "price_range = max(stock_prices) - min(stock_prices)\n",
    "print(\"Range of stock prices:\", price_range)\n"
   ]
  },
  {
   "cell_type": "markdown",
   "id": "24656d25-a08d-4bd4-9cc0-60f8c25efa68",
   "metadata": {},
   "source": [
    "5. Scenario: A study is conducted to compare the performance of two different teaching methods. The test scores of the students in each group are as follows:\n",
    "   Group A: [85, 90, 92, 88, 91]\n",
    "   Group B: [82, 88, 90, 86, 87]\n",
    "   Perform a t-test to determine if there is a significant difference in the mean scores between the two groups.\n"
   ]
  },
  {
   "cell_type": "code",
   "execution_count": 5,
   "id": "369af9cc-9a2e-4c37-880e-c2dacc0f829c",
   "metadata": {},
   "outputs": [
    {
     "name": "stdout",
     "output_type": "stream",
     "text": [
      "There is no significant difference in the mean scores between the two groups.\n"
     ]
    }
   ],
   "source": [
    "from scipy import stats\n",
    "\n",
    "group_a_scores = [85, 90, 92, 88, 91]\n",
    "group_b_scores = [82, 88, 90, 86, 87]\n",
    "\n",
    "t_statistic, p_value = stats.ttest_ind(group_a_scores, group_b_scores)\n",
    "if p_value < 0.05:\n",
    "    print(\"There is a significant difference in the mean scores between the two groups.\")\n",
    "else:\n",
    "    print(\"There is no significant difference in the mean scores between the two groups.\")\n"
   ]
  },
  {
   "cell_type": "markdown",
   "id": "d35f2db9-c77a-4f3e-8533-dbc925cd2960",
   "metadata": {},
   "source": [
    "6. Scenario: A company wants to analyze the relationship between advertising expenditure and sales. The data collected is as follows:\n",
    "   Advertising Expenditure (in thousands): [10, 15, 12, 8, 14]\n",
    "   Sales (in thousands): [25, 30, 28, 20, 26]\n",
    "   Calculate the correlation coefficient between advertising expenditure and sales.\n"
   ]
  },
  {
   "cell_type": "code",
   "execution_count": 6,
   "id": "ba1f5a66-1208-43da-838e-91f847e05123",
   "metadata": {},
   "outputs": [
    {
     "name": "stdout",
     "output_type": "stream",
     "text": [
      "Correlation coefficient between advertising expenditure and sales: 0.8757511375750132\n"
     ]
    }
   ],
   "source": [
    "import numpy as np\n",
    "\n",
    "advertising_expenditure = [10, 15, 12, 8, 14]\n",
    "sales = [25, 30, 28, 20, 26]\n",
    "\n",
    "correlation_coefficient = np.corrcoef(advertising_expenditure, sales)[0, 1]\n",
    "print(\"Correlation coefficient between advertising expenditure and sales:\", correlation_coefficient)\n"
   ]
  },
  {
   "cell_type": "markdown",
   "id": "840b5825-3acd-4999-97e1-ab483c2d2a16",
   "metadata": {},
   "source": [
    "7. Scenario: A survey is conducted to measure the heights of a group of people. The data collected is as follows:\n",
    "   [160, 170, 165, 155, 175, 180, 170]\n",
    "   Calculate the standard deviation of the heights."
   ]
  },
  {
   "cell_type": "code",
   "execution_count": 7,
   "id": "0cf456f7-c211-4b37-9d04-00adb4ea2453",
   "metadata": {},
   "outputs": [
    {
     "name": "stdout",
     "output_type": "stream",
     "text": [
      "Standard deviation of heights: 7.953949089757174\n"
     ]
    }
   ],
   "source": [
    "heights = [160, 170, 165, 155, 175, 180, 170]\n",
    "\n",
    "standard_deviation = np.std(heights)\n",
    "print(\"Standard deviation of heights:\", standard_deviation)\n"
   ]
  },
  {
   "cell_type": "markdown",
   "id": "71ca8796-8335-4562-831a-5188cba22b3e",
   "metadata": {},
   "source": [
    "8. Scenario: A company wants to analyze the relationship between employee tenure and job satisfaction. The data collected is as follows:\n",
    "   Employee Tenure (in years): [2, 3, 5, 4, 6, 2, 4]\n",
    "   Job Satisfaction (on a scale of 1 to 10): [7, 8, 6, 9, 5, 7, 6]\n",
    "   Perform a linear regression analysis to predict job satisfaction based on employee tenure."
   ]
  },
  {
   "cell_type": "code",
   "execution_count": 8,
   "id": "0cc5f341-72ca-4e49-8335-e5db143090c9",
   "metadata": {},
   "outputs": [
    {
     "name": "stdout",
     "output_type": "stream",
     "text": [
      "Intercept: 8.595744680851062\n",
      "Coefficient: -0.4680851063829786\n"
     ]
    }
   ],
   "source": [
    "from sklearn.linear_model import LinearRegression\n",
    "\n",
    "employee_tenure = [[2], [3], [5], [4], [6], [2], [4]]\n",
    "job_satisfaction = [7, 8, 6, 9, 5, 7, 6]\n",
    "\n",
    "regression_model = LinearRegression()\n",
    "regression_model.fit(employee_tenure, job_satisfaction)\n",
    "\n",
    "print(\"Intercept:\", regression_model.intercept_)\n",
    "print(\"Coefficient:\", regression_model.coef_[0])\n"
   ]
  },
  {
   "cell_type": "markdown",
   "id": "588c0239-8fc0-40a5-a6b7-81002c70bda7",
   "metadata": {},
   "source": [
    "9. Scenario: A study is conducted to compare the effectiveness of two different medications. The recovery times of the patients in each group are as follows:\n",
    "   Medication A: [10, 12, 14, 11, 13]\n",
    "   Medication B: [15, 17, 16, 14, 18]\n",
    "   Perform an analysis of variance (ANOVA) to determine if there is a significant difference in the mean recovery times between the two medications.\n"
   ]
  },
  {
   "cell_type": "code",
   "execution_count": 9,
   "id": "10128d36-0be6-4bdd-a5ef-4b7403b437f6",
   "metadata": {},
   "outputs": [
    {
     "name": "stdout",
     "output_type": "stream",
     "text": [
      "There is a significant difference in the mean recovery times between the two medications.\n"
     ]
    }
   ],
   "source": [
    "from scipy.stats import f_oneway\n",
    "\n",
    "medication_a_recovery_times = [10, 12, 14, 11, 13]\n",
    "medication_b_recovery_times = [15, 17, 16, 14, 18]\n",
    "\n",
    "f_statistic, p_value = f_oneway(medication_a_recovery_times, medication_b_recovery_times)\n",
    "if p_value < 0.05:\n",
    "    print(\"There is a significant difference in the mean recovery times between the two medications.\")\n",
    "else:\n",
    "    print(\"There is no significant difference in the mean recovery times between the two medications.\")\n"
   ]
  },
  {
   "cell_type": "markdown",
   "id": "9c6e03c7-ccb2-48ee-88b9-6e1c9183d297",
   "metadata": {},
   "source": [
    "10. Scenario: A company wants to analyze customer feedback ratings on a scale of 1 to 10. The data collected is\n",
    "\n",
    " as follows:[8, 9, 7, 6, 8, 10, 9, 8, 7, 8]\n",
    "    Calculate the 75th percentile of the feedback ratings."
   ]
  },
  {
   "cell_type": "code",
   "execution_count": 10,
   "id": "e1e1e655-c0d9-4709-b4cc-0e54322c2e22",
   "metadata": {},
   "outputs": [
    {
     "name": "stdout",
     "output_type": "stream",
     "text": [
      "75th percentile of feedback ratings: 8.75\n"
     ]
    }
   ],
   "source": [
    "feedback_ratings = [8, 9, 7, 6, 8, 10, 9, 8, 7, 8]\n",
    "\n",
    "percentile_75th = np.percentile(feedback_ratings, 75)\n",
    "print(\"75th percentile of feedback ratings:\", percentile_75th)\n"
   ]
  },
  {
   "cell_type": "markdown",
   "id": "548e1442-b784-4294-9032-39e49f7faebf",
   "metadata": {},
   "source": [
    "11. Scenario: A quality control department wants to test the weight consistency of a product. The weights of a sample of products are as follows:\n",
    "    [10.2, 9.8, 10.0, 10.5, 10.3, 10.1]\n",
    "    Perform a hypothesis test to determine if the mean weight differs significantly from 10 grams.\n"
   ]
  },
  {
   "cell_type": "code",
   "execution_count": 11,
   "id": "2c1ceca7-e22e-4062-87d5-7f29a81c8ccc",
   "metadata": {},
   "outputs": [
    {
     "name": "stdout",
     "output_type": "stream",
     "text": [
      "The mean weight does not differ significantly from 10 grams.\n"
     ]
    }
   ],
   "source": [
    "from scipy.stats import ttest_1samp\n",
    "\n",
    "weights = [10.2, 9.8, 10.0, 10.5, 10.3, 10.1]\n",
    "\n",
    "t_statistic, p_value = ttest_1samp(weights, 10)\n",
    "if p_value < 0.05:\n",
    "    print(\"The mean weight differs significantly from 10 grams.\")\n",
    "else:\n",
    "    print(\"The mean weight does not differ significantly from 10 grams.\")\n"
   ]
  },
  {
   "cell_type": "markdown",
   "id": "fca3df93-2c45-4a60-b27a-d33c24a6c424",
   "metadata": {},
   "source": [
    "12. Scenario: A company wants to analyze the click-through rates of two different website designs. The number of clicks for each design is as follows:\n",
    "    Design A: [100, 120, 110, 90, 95]\n",
    "    Design B: [80, 85, 90, 95, 100]\n",
    "    Perform a chi-square test to determine if there is a significant difference in the click-through rates between the two designs.\n"
   ]
  },
  {
   "cell_type": "code",
   "execution_count": 12,
   "id": "5a5af395-5b6a-4391-b8fd-e427f05fe5f6",
   "metadata": {},
   "outputs": [
    {
     "name": "stdout",
     "output_type": "stream",
     "text": [
      "There is no significant difference in the click-through rates between the two designs.\n"
     ]
    }
   ],
   "source": [
    "from scipy.stats import chi2_contingency\n",
    "\n",
    "design_a_clicks = [100, 120, 110, 90, 95]\n",
    "design_b_clicks = [80, 85, 90, 95, 100]\n",
    "\n",
    "contingency_table = [design_a_clicks, design_b_clicks]\n",
    "chi2_statistic, p_value, _, _ = chi2_contingency(contingency_table)\n",
    "\n",
    "if p_value < 0.05:\n",
    "    print(\"There is a significant difference in the click-through rates between the two designs.\")\n",
    "else:\n",
    "    print(\"There is no significant difference in the click-through rates between the two designs.\")\n"
   ]
  },
  {
   "cell_type": "markdown",
   "id": "227fa7a4-fdbb-48d4-b919-09485a9b7123",
   "metadata": {},
   "source": [
    "13. Scenario: A survey is conducted to measure customer satisfaction with a product on a scale of 1 to 10. The data collected is as follows:\n",
    "    [7, 9, 6, 8, 10, 7, 8, 9, 7, 8]\n",
    "    Calculate the 95% confidence interval for the population mean satisfaction score.\n"
   ]
  },
  {
   "cell_type": "code",
   "execution_count": 13,
   "id": "851b6ff7-d1b9-40f0-8bfb-aa1e6699a3b4",
   "metadata": {},
   "outputs": [
    {
     "name": "stdout",
     "output_type": "stream",
     "text": [
      "95% confidence interval for the population mean satisfaction score: (7.043561120599888, 8.756438879400113)\n"
     ]
    }
   ],
   "source": [
    "import scipy.stats as stats\n",
    "\n",
    "satisfaction_scores = [7, 9, 6, 8, 10, 7, 8, 9, 7, 8]\n",
    "\n",
    "confidence_interval = stats.t.interval(0.95, len(satisfaction_scores)-1, loc=np.mean(satisfaction_scores), scale=stats.sem(satisfaction_scores))\n",
    "print(\"95% confidence interval for the population mean satisfaction score:\", confidence_interval)\n"
   ]
  },
  {
   "cell_type": "markdown",
   "id": "f4483452-6d56-412b-a604-471c368bcbee",
   "metadata": {},
   "source": [
    "14. Scenario: A company wants to analyze the effect of temperature on product performance. The data collected is as follows:\n",
    "    Temperature (in degrees Celsius): [20, 22, 23, 19, 21]\n",
    "    Performance (on a scale of 1 to 10): [8, 7, 9, 6, 8]\n",
    "    Perform a simple linear regression to predict performance based on temperature."
   ]
  },
  {
   "cell_type": "code",
   "execution_count": 14,
   "id": "117eed41-ee73-41d8-a724-f463b41a4fe1",
   "metadata": {},
   "outputs": [
    {
     "name": "stdout",
     "output_type": "stream",
     "text": [
      "Intercept: -2.8999999999999986\n",
      "Coefficient: 0.4999999999999999\n"
     ]
    }
   ],
   "source": [
    "from sklearn.linear_model import LinearRegression\n",
    "\n",
    "temperature = [[20], [22], [23], [19], [21]]\n",
    "performance = [8, 7, 9, 6, 8]\n",
    "\n",
    "regression_model = LinearRegression()\n",
    "regression_model.fit(temperature, performance)\n",
    "\n",
    "print(\"Intercept:\", regression_model.intercept_)\n",
    "print(\"Coefficient:\", regression_model.coef_[0])\n"
   ]
  },
  {
   "cell_type": "markdown",
   "id": "10c306c7-f01b-48f3-bc36-78f0def50917",
   "metadata": {},
   "source": [
    "15. Scenario: A study is conducted to compare the preferences of two groups of participants. The preferences are measured on a Likert scale from 1 to 5. The data collected is as follows:\n",
    "    Group A: [4, 3, 5, 2, 4]\n",
    "    Group B: [3, 2, 4, 3, 3]\n",
    "    Perform a Mann-Whitney U test to determine if there is a significant difference in the median preferences between the two groups.\n"
   ]
  },
  {
   "cell_type": "code",
   "execution_count": 15,
   "id": "27006fe6-6136-4f5b-9e95-c7a25c39c8c4",
   "metadata": {},
   "outputs": [
    {
     "name": "stdout",
     "output_type": "stream",
     "text": [
      "Mann-Whitney U statistic: 17.0\n",
      "p-value: 0.380836480306712\n"
     ]
    }
   ],
   "source": [
    "from scipy.stats import mannwhitneyu\n",
    "\n",
    "group_a = [4, 3, 5, 2, 4]\n",
    "group_b = [3, 2, 4, 3, 3]\n",
    "\n",
    "# Perform the Mann-Whitney U test\n",
    "statistic, p_value = mannwhitneyu(group_a, group_b, alternative='two-sided')\n",
    "\n",
    "# Print the test statistic and p-value\n",
    "print(\"Mann-Whitney U statistic:\", statistic)\n",
    "print(\"p-value:\", p_value)\n"
   ]
  },
  {
   "cell_type": "markdown",
   "id": "8e8c44f4-5717-4d53-b35e-fbeb6fb2e8e2",
   "metadata": {},
   "source": [
    "16. Scenario: A company wants to analyze the distribution of customer ages. The data collected is as follows:\n",
    "    [25, 30, 35, 40, 45, 50, 55, 60, 65, 70]\n",
    "    Calculate the interquartile range (IQR) of the ages.\n"
   ]
  },
  {
   "cell_type": "code",
   "execution_count": 16,
   "id": "2dc89674-0b70-4109-88b1-83518ac79b70",
   "metadata": {},
   "outputs": [
    {
     "name": "stdout",
     "output_type": "stream",
     "text": [
      "Interquartile range (IQR) of ages: 22.5\n"
     ]
    }
   ],
   "source": [
    "import numpy as np\n",
    "\n",
    "ages = [25, 30, 35, 40, 45, 50, 55, 60, 65, 70]\n",
    "\n",
    "q1 = np.percentile(ages, 25)\n",
    "q3 = np.percentile(ages, 75)\n",
    "\n",
    "iqr = q3 - q1\n",
    "\n",
    "print(\"Interquartile range (IQR) of ages:\", iqr)"
   ]
  },
  {
   "cell_type": "markdown",
   "id": "b859a4a1-fe24-4897-86d5-7bf1ad834936",
   "metadata": {},
   "source": [
    "17. Scenario: A study is conducted to compare the performance of three different machine learning algorithms. The accuracy scores for each algorithm are as follows:\n",
    "    Algorithm A: [0.85, 0.80, 0.82, 0.87, 0.83]\n",
    "    Algorithm B: [0.78, 0.82, 0.84, 0.80, 0.79]\n",
    "    Algorithm C: [0.90, 0.88, 0.89, 0.86, 0.87]\n",
    "    Perform a Kruskal-Wallis test to determine if there is a significant difference in the median accuracy scores between the algorithms.\n"
   ]
  },
  {
   "cell_type": "code",
   "execution_count": 17,
   "id": "0f8f97ce-a3a7-4a28-b24e-5b936862cf9e",
   "metadata": {},
   "outputs": [
    {
     "name": "stdout",
     "output_type": "stream",
     "text": [
      "Kruskal-Wallis Test\n",
      "Null hypothesis: The median accuracy scores are equal for all algorithms.\n",
      "Alternative hypothesis: The median accuracy scores are not equal for at least one algorithm.\n",
      "\n",
      "Test statistic: 9.696947935368053\n",
      "p-value: 0.007840333026249539\n",
      "\n",
      "Result: Reject the null hypothesis. There is a significant difference in the median accuracy scores.\n"
     ]
    }
   ],
   "source": [
    "from scipy.stats import kruskal\n",
    "\n",
    "algorithm_a = [0.85, 0.80, 0.82, 0.87, 0.83]\n",
    "algorithm_b = [0.78, 0.82, 0.84, 0.80, 0.79]\n",
    "algorithm_c = [0.90, 0.88, 0.89, 0.86, 0.87]\n",
    "\n",
    "statistic, p_value = kruskal(algorithm_a, algorithm_b, algorithm_c)\n",
    "\n",
    "alpha = 0.05  # significance level\n",
    "\n",
    "print(\"Kruskal-Wallis Test\")\n",
    "print(\"Null hypothesis: The median accuracy scores are equal for all algorithms.\")\n",
    "print(\"Alternative hypothesis: The median accuracy scores are not equal for at least one algorithm.\")\n",
    "print(\"\")\n",
    "\n",
    "print(\"Test statistic:\", statistic)\n",
    "print(\"p-value:\", p_value)\n",
    "print(\"\")\n",
    "\n",
    "if p_value < alpha:\n",
    "    print(\"Result: Reject the null hypothesis. There is a significant difference in the median accuracy scores.\")\n",
    "else:\n",
    "    print(\"Result: Fail to reject the null hypothesis. There is no significant difference in the median accuracy scores.\")\n"
   ]
  },
  {
   "cell_type": "markdown",
   "id": "cf8ee2fd-e2f4-40ce-ac09-10e8bc90e18c",
   "metadata": {},
   "source": [
    "18. Scenario: A company wants to analyze the effect of price on sales. The data collected is as follows:\n",
    "    Price (in dollars): [10, 15, 12, 8, 14]\n",
    "    Sales: [100, 80, 90, 110, 95]\n",
    "    Perform a simple linear regression to predict sales based on price.\n"
   ]
  },
  {
   "cell_type": "code",
   "execution_count": 18,
   "id": "51c1662c-ddb3-44e6-880b-3005b06f9a1d",
   "metadata": {},
   "outputs": [
    {
     "name": "stdout",
     "output_type": "stream",
     "text": [
      "Simple Linear Regression\n",
      "Sales = 136.37 + -3.51 * Price\n",
      "\n",
      "                            OLS Regression Results                            \n",
      "==============================================================================\n",
      "Dep. Variable:                      y   R-squared:                       0.806\n",
      "Model:                            OLS   Adj. R-squared:                  0.742\n",
      "Method:                 Least Squares   F-statistic:                     12.50\n",
      "Date:                Sun, 09 Jul 2023   Prob (F-statistic):             0.0385\n",
      "Time:                        09:12:54   Log-Likelihood:                -14.503\n",
      "No. Observations:                   5   AIC:                             33.01\n",
      "Df Residuals:                       3   BIC:                             32.22\n",
      "Df Model:                           1                                         \n",
      "Covariance Type:            nonrobust                                         \n",
      "==============================================================================\n",
      "                 coef    std err          t      P>|t|      [0.025      0.975]\n",
      "------------------------------------------------------------------------------\n",
      "const        136.3720     11.976     11.387      0.001      98.259     174.485\n",
      "x1            -3.5061      0.992     -3.535      0.039      -6.663      -0.350\n",
      "==============================================================================\n",
      "Omnibus:                          nan   Durbin-Watson:                   0.811\n",
      "Prob(Omnibus):                    nan   Jarque-Bera (JB):                0.632\n",
      "Skew:                           0.770   Prob(JB):                        0.729\n",
      "Kurtosis:                       2.186   Cond. No.                         57.3\n",
      "==============================================================================\n",
      "\n",
      "Notes:\n",
      "[1] Standard Errors assume that the covariance matrix of the errors is correctly specified.\n"
     ]
    },
    {
     "name": "stderr",
     "output_type": "stream",
     "text": [
      "/opt/conda/lib/python3.10/site-packages/statsmodels/stats/stattools.py:74: ValueWarning: omni_normtest is not valid with less than 8 observations; 5 samples were given.\n",
      "  warn(\"omni_normtest is not valid with less than 8 observations; %i \"\n"
     ]
    }
   ],
   "source": [
    "import statsmodels.api as sm\n",
    "import numpy as np\n",
    "\n",
    "price = np.array([10, 15, 12, 8, 14])\n",
    "sales = np.array([100, 80, 90, 110, 95])\n",
    "\n",
    "# Add a constant term to the price array for the intercept\n",
    "X = sm.add_constant(price)\n",
    "\n",
    "# Fit the linear regression model\n",
    "model = sm.OLS(sales, X)\n",
    "results = model.fit()\n",
    "\n",
    "# Print the regression results\n",
    "print(\"Simple Linear Regression\")\n",
    "print(\"Sales = {:.2f} + {:.2f} * Price\".format(results.params[0], results.params[1]))\n",
    "print(\"\")\n",
    "print(results.summary())\n"
   ]
  },
  {
   "cell_type": "markdown",
   "id": "c213f1af-a1f4-4ca7-9500-d5c9fbd576ba",
   "metadata": {},
   "source": [
    "19. Scenario: A survey is conducted to measure the satisfaction levels of customers with a new product. The data collected is as follows:\n",
    "    [7, 8, 9, 6, 8, 7, 9, 7, 8, 7]\n",
    "    Calculate the standard error of the mean satisfaction score.\n"
   ]
  },
  {
   "cell_type": "code",
   "execution_count": 19,
   "id": "15bb1904-ef4e-444d-a3dc-177c04194c08",
   "metadata": {},
   "outputs": [
    {
     "name": "stdout",
     "output_type": "stream",
     "text": [
      "Standard Error of the Mean: 0.29\n"
     ]
    }
   ],
   "source": [
    "import numpy as np\n",
    "\n",
    "satisfaction_scores = np.array([7, 8, 9, 6, 8, 7, 9, 7, 8, 7])\n",
    "\n",
    "# Calculate the sample size\n",
    "n = len(satisfaction_scores)\n",
    "\n",
    "# Calculate the standard deviation\n",
    "std_dev = np.std(satisfaction_scores)\n",
    "\n",
    "# Calculate the standard error\n",
    "standard_error = std_dev / np.sqrt(n)\n",
    "\n",
    "print(\"Standard Error of the Mean: {:.2f}\".format(standard_error))\n"
   ]
  },
  {
   "cell_type": "markdown",
   "id": "20e5bde7-454e-419b-8895-18b8235dac01",
   "metadata": {},
   "source": [
    "20. Scenario: A company wants to analyze the relationship between advertising expenditure and sales. The data collected is as follows:\n",
    "    Advertising Expenditure (in thousands): [10, 15, 12, 8, 14]\n",
    "    Sales (in thousands): [25, 30, 28, 20, 26]\n",
    "    Perform a multiple regression analysis to predict sales based on advertising expenditure."
   ]
  },
  {
   "cell_type": "code",
   "execution_count": 20,
   "id": "6fd96272-106d-4555-b6e3-309c2fdc6793",
   "metadata": {},
   "outputs": [
    {
     "name": "stdout",
     "output_type": "stream",
     "text": [
      "Intercept: 12.201219512195118\n",
      "Coefficient for Advertising Expenditure: 1.1524390243902434\n",
      "                            OLS Regression Results                            \n",
      "==============================================================================\n",
      "Dep. Variable:                      y   R-squared:                       0.767\n",
      "Model:                            OLS   Adj. R-squared:                  0.689\n",
      "Method:                 Least Squares   F-statistic:                     9.872\n",
      "Date:                Sun, 09 Jul 2023   Prob (F-statistic):             0.0516\n",
      "Time:                        09:12:54   Log-Likelihood:                -9.5288\n",
      "No. Observations:                   5   AIC:                             23.06\n",
      "Df Residuals:                       3   BIC:                             22.28\n",
      "Df Model:                           1                                         \n",
      "Covariance Type:            nonrobust                                         \n",
      "==============================================================================\n",
      "                 coef    std err          t      P>|t|      [0.025      0.975]\n",
      "------------------------------------------------------------------------------\n",
      "const         12.2012      4.429      2.755      0.070      -1.893      26.296\n",
      "x1             1.1524      0.367      3.142      0.052      -0.015       2.320\n",
      "==============================================================================\n",
      "Omnibus:                          nan   Durbin-Watson:                   1.136\n",
      "Prob(Omnibus):                    nan   Jarque-Bera (JB):                0.546\n",
      "Skew:                          -0.267   Prob(JB):                        0.761\n",
      "Kurtosis:                       1.471   Cond. No.                         57.3\n",
      "==============================================================================\n",
      "\n",
      "Notes:\n",
      "[1] Standard Errors assume that the covariance matrix of the errors is correctly specified.\n"
     ]
    },
    {
     "name": "stderr",
     "output_type": "stream",
     "text": [
      "/opt/conda/lib/python3.10/site-packages/statsmodels/stats/stattools.py:74: ValueWarning: omni_normtest is not valid with less than 8 observations; 5 samples were given.\n",
      "  warn(\"omni_normtest is not valid with less than 8 observations; %i \"\n"
     ]
    }
   ],
   "source": [
    "import numpy as np\n",
    "import statsmodels.api as sm\n",
    "\n",
    "# Advertising Expenditure (in thousands)\n",
    "X = np.array([10, 15, 12, 8, 14])\n",
    "\n",
    "# Sales (in thousands)\n",
    "y = np.array([25, 30, 28, 20, 26])\n",
    "\n",
    "# Add a constant term to the X variable\n",
    "X = sm.add_constant(X)\n",
    "\n",
    "# Fit the multiple regression model\n",
    "model = sm.OLS(y, X)\n",
    "results = model.fit()\n",
    "\n",
    "# Print the regression coefficients\n",
    "print(\"Intercept:\", results.params[0])\n",
    "print(\"Coefficient for Advertising Expenditure:\", results.params[1])\n",
    "\n",
    "# Print the summary of the regression analysis\n",
    "print(results.summary())\n"
   ]
  },
  {
   "cell_type": "code",
   "execution_count": null,
   "id": "3c55996c-653b-4164-853b-f9453a2ea163",
   "metadata": {},
   "outputs": [],
   "source": []
  }
 ],
 "metadata": {
  "kernelspec": {
   "display_name": "Python 3 (ipykernel)",
   "language": "python",
   "name": "python3"
  },
  "language_info": {
   "codemirror_mode": {
    "name": "ipython",
    "version": 3
   },
   "file_extension": ".py",
   "mimetype": "text/x-python",
   "name": "python",
   "nbconvert_exporter": "python",
   "pygments_lexer": "ipython3",
   "version": "3.10.8"
  }
 },
 "nbformat": 4,
 "nbformat_minor": 5
}
