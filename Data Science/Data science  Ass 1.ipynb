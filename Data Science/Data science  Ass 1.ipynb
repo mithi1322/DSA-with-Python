{
 "cells": [
  {
   "cell_type": "markdown",
   "id": "75c5a3bc-7f15-4ff4-b3f7-f6cf9daa4476",
   "metadata": {},
   "source": [
    "1. Write a Python program to reverse a string without using any built-in string reversal functions."
   ]
  },
  {
   "cell_type": "code",
   "execution_count": 1,
   "id": "84919fde-a4b9-4a19-9e01-67c24256621f",
   "metadata": {},
   "outputs": [
    {
     "name": "stdout",
     "output_type": "stream",
     "text": [
      "hselihtiM\n"
     ]
    }
   ],
   "source": [
    "def reverse_string(input_str):\n",
    "    reversed_str = ''\n",
    "    for i in range(len(input_str)-1, -1, -1):\n",
    "        reversed_str += input_str[i]\n",
    "    return reversed_str\n",
    "\n",
    "# Example\n",
    "input_string = \"Mithilesh\"\n",
    "reversed_string = reverse_string(input_string)\n",
    "print(reversed_string)\n"
   ]
  },
  {
   "cell_type": "markdown",
   "id": "1772d8dc-d0ff-476d-9fd7-f083a2792755",
   "metadata": {},
   "source": [
    "2. Implement a function to check if a given string is a palindrome."
   ]
  },
  {
   "cell_type": "code",
   "execution_count": 2,
   "id": "33d92a07-b3f1-4af1-acff-792f7e678567",
   "metadata": {},
   "outputs": [
    {
     "name": "stdout",
     "output_type": "stream",
     "text": [
      "The string is a palindrome.\n"
     ]
    }
   ],
   "source": [
    "def palindrome(input_str):\n",
    "    input_str = input_str.lower()\n",
    "    reversed_str = input_str[::-1]\n",
    "    return input_str == reversed_str\n",
    "\n",
    "# Example\n",
    "input_string = \"racecar\"\n",
    "if palindrome(input_string):\n",
    "    print(\"The string is a palindrome.\")\n",
    "else:\n",
    "    print(\"The string is not a palindrome.\")\n"
   ]
  },
  {
   "cell_type": "markdown",
   "id": "1d643112-9acd-49dd-8a2f-6b066123d0f2",
   "metadata": {},
   "source": [
    "3. Write a program to find the largest element in a given list."
   ]
  },
  {
   "cell_type": "code",
   "execution_count": 3,
   "id": "313d420d-d148-4f4c-8b44-ef48458d2949",
   "metadata": {},
   "outputs": [
    {
     "name": "stdout",
     "output_type": "stream",
     "text": [
      "The largest element is: 10\n"
     ]
    }
   ],
   "source": [
    "def largest_element(input_list):\n",
    "    largest_element = input_list[0]\n",
    "    for element in input_list:\n",
    "        if element > largest_element:\n",
    "            largest_element = element\n",
    "    return largest_element\n",
    "\n",
    "# Example\n",
    "my_list = [5, 2, 9, 10, 1]\n",
    "largest = largest_element(my_list)\n",
    "print(\"The largest element is:\", largest)\n"
   ]
  },
  {
   "cell_type": "markdown",
   "id": "4ba65230-1da4-485a-b25b-b38facea24dc",
   "metadata": {},
   "source": [
    "4. Implement a function to count the occurrence of each element in a list."
   ]
  },
  {
   "cell_type": "code",
   "execution_count": 4,
   "id": "5bbbd50a-cf44-4bf5-b60b-2f434609857d",
   "metadata": {},
   "outputs": [
    {
     "name": "stdout",
     "output_type": "stream",
     "text": [
      "Element count: {1: 2, 2: 2, 3: 3, 4: 3, 5: 1}\n"
     ]
    }
   ],
   "source": [
    "def count_elements(input_list):\n",
    "    element_count = {}\n",
    "    for element in input_list:\n",
    "        if element in element_count:\n",
    "            element_count[element] += 1\n",
    "        else:\n",
    "            element_count[element] = 1\n",
    "    return element_count\n",
    "\n",
    "# Example\n",
    "my_list = [1, 2, 3, 2, 1, 3, 3, 4, 5, 4, 4]\n",
    "count = count_elements(my_list)\n",
    "print(\"Element count:\", count)\n"
   ]
  },
  {
   "cell_type": "markdown",
   "id": "27988b9d-e0fd-4da0-aae6-4f1607aef575",
   "metadata": {},
   "source": [
    "5. Write a Python program to find the second largest number in a list."
   ]
  },
  {
   "cell_type": "code",
   "execution_count": 5,
   "id": "362c0160-5499-4fc2-b381-40d8211bb5cf",
   "metadata": {},
   "outputs": [
    {
     "name": "stdout",
     "output_type": "stream",
     "text": [
      "The second largest number is: 9\n"
     ]
    }
   ],
   "source": [
    "def second_largest(input_list):\n",
    "    if len(input_list) < 2:\n",
    "        return \"List should have at least two elements.\"\n",
    "    largest = max(input_list[0], input_list[1])\n",
    "    second_largest = min(input_list[0], input_list[1])\n",
    "    for i in range(2, len(input_list)):\n",
    "        if input_list[i] > largest:\n",
    "            second_largest = largest\n",
    "            largest = input_list[i]\n",
    "        elif input_list[i] > second_largest:\n",
    "            second_largest = input_list[i]\n",
    "    return second_largest\n",
    "\n",
    "# Example\n",
    "my_list = [5, 2, 9, 10, 1]\n",
    "second_largest = second_largest(my_list)\n",
    "print(\"The second largest number is:\", second_largest)\n"
   ]
  },
  {
   "cell_type": "markdown",
   "id": "6ede75b0-2f6d-433a-83ef-5f34fd6dfed6",
   "metadata": {},
   "source": [
    "6. Implement a function to remove duplicate elements from a list."
   ]
  },
  {
   "cell_type": "code",
   "execution_count": 6,
   "id": "c3869511-9577-4329-8cd5-5b5a82e7c52c",
   "metadata": {},
   "outputs": [
    {
     "name": "stdout",
     "output_type": "stream",
     "text": [
      "List with duplicates removed: [1, 2, 3, 4, 5]\n"
     ]
    }
   ],
   "source": [
    "def remove_duplicates(input_list):\n",
    "    return list(set(input_list))\n",
    "\n",
    "# Example\n",
    "my_list = [1, 2, 3, 2, 4, 1, 5]\n",
    "unique_list = remove_duplicates(my_list)\n",
    "print(\"List with duplicates removed:\", unique_list)\n"
   ]
  },
  {
   "cell_type": "markdown",
   "id": "3fb39ecd-597c-4041-98f0-8eb7018d94b2",
   "metadata": {},
   "source": [
    "7. Write a program to calculate the factorial of a given number."
   ]
  },
  {
   "cell_type": "code",
   "execution_count": 7,
   "id": "34f597a5-e441-4f22-8b00-2b16636f1e7c",
   "metadata": {},
   "outputs": [
    {
     "name": "stdout",
     "output_type": "stream",
     "text": [
      "Factorial of 5 is: 120\n"
     ]
    }
   ],
   "source": [
    "def factorial(n):\n",
    "    if n == 0:\n",
    "        return 1\n",
    "    else:\n",
    "        return n * factorial(n - 1)\n",
    "\n",
    "# Example\n",
    "num = 5\n",
    "fact = factorial(num)\n",
    "print(\"Factorial of\", num, \"is:\", fact)\n"
   ]
  },
  {
   "cell_type": "markdown",
   "id": "3dcd45b6-b69a-403c-9e82-2ba31791b994",
   "metadata": {},
   "source": [
    "8. Implement a function to check if a given number is prime."
   ]
  },
  {
   "cell_type": "code",
   "execution_count": 8,
   "id": "1a82ec23-3f00-42f1-9f4e-352adab8242a",
   "metadata": {},
   "outputs": [
    {
     "name": "stdout",
     "output_type": "stream",
     "text": [
      "17 is a prime number.\n"
     ]
    }
   ],
   "source": [
    "def prime(n):\n",
    "    if n < 2:\n",
    "        return False\n",
    "    for i in range(2, int(n ** 0.5) + 1):\n",
    "        if n % i == 0:\n",
    "            return False\n",
    "    return True\n",
    "\n",
    "# Example\n",
    "number = 17\n",
    "if prime(number):\n",
    "    print(number, \"is a prime number.\")\n",
    "else:\n",
    "    print(number, \"is not a prime number.\")\n"
   ]
  },
  {
   "cell_type": "markdown",
   "id": "fd649cec-a923-4421-b855-4f755a474455",
   "metadata": {},
   "source": [
    "9. Write a Python program to sort a list of integers in ascending order."
   ]
  },
  {
   "cell_type": "code",
   "execution_count": 9,
   "id": "becbe552-268f-426c-9ec8-7f2e92e00490",
   "metadata": {},
   "outputs": [
    {
     "name": "stdout",
     "output_type": "stream",
     "text": [
      "Sorted list: [1, 2, 5, 9, 10]\n"
     ]
    }
   ],
   "source": [
    "def sort_list(input_list):\n",
    "    return sorted(input_list)\n",
    "\n",
    "# Example\n",
    "my_list = [5, 2, 9, 1, 10]\n",
    "sorted_list = sort_list(my_list)\n",
    "print(\"Sorted list:\", sorted_list)\n"
   ]
  },
  {
   "cell_type": "markdown",
   "id": "43ba0da0-e992-4132-aa52-2e928cef84f0",
   "metadata": {},
   "source": [
    "10. Implement a function to find the sum of all numbers in a list."
   ]
  },
  {
   "cell_type": "code",
   "execution_count": 10,
   "id": "efb5fdab-e27d-4b31-bcff-00b464eb84b3",
   "metadata": {},
   "outputs": [
    {
     "name": "stdout",
     "output_type": "stream",
     "text": [
      "Sum of numbers: 15\n"
     ]
    }
   ],
   "source": [
    "def sum_of_numbers(input_list):\n",
    "    return sum(input_list)\n",
    "\n",
    "# Example\n",
    "my_list = [1, 2, 3, 4, 5]\n",
    "total_sum = sum_of_numbers(my_list)\n",
    "print(\"Sum of numbers:\", total_sum)\n"
   ]
  },
  {
   "cell_type": "markdown",
   "id": "c341c0f6-e2b4-4e24-86e4-aef65e04ef1c",
   "metadata": {},
   "source": [
    "11. Write a program to find the common elements between two lists."
   ]
  },
  {
   "cell_type": "code",
   "execution_count": 11,
   "id": "e3eb376c-6178-493f-8ea7-1887410dde57",
   "metadata": {},
   "outputs": [
    {
     "name": "stdout",
     "output_type": "stream",
     "text": [
      "Common elements: [4, 5]\n"
     ]
    }
   ],
   "source": [
    "def common_elements(list1, list2):\n",
    "    return list(set(list1) & set(list2))\n",
    "\n",
    "# Example\n",
    "list1 = [1, 2, 3, 4, 5]\n",
    "list2 = [4, 5, 6, 7, 8]\n",
    "common_elements = common_elements(list1, list2)\n",
    "print(\"Common elements:\", common_elements)\n"
   ]
  },
  {
   "cell_type": "markdown",
   "id": "1a9bcab0-602a-40dd-a7df-52990f30363c",
   "metadata": {},
   "source": [
    "12. Implement a function to check if a given string is an anagram of another string."
   ]
  },
  {
   "cell_type": "code",
   "execution_count": 12,
   "id": "30d8db22-d08e-4aec-a94c-a7a3e40eb553",
   "metadata": {},
   "outputs": [
    {
     "name": "stdout",
     "output_type": "stream",
     "text": [
      "The strings are anagrams.\n"
     ]
    }
   ],
   "source": [
    "def is_anagram(str1, str2):\n",
    "    return sorted(str1.lower()) == sorted(str2.lower())\n",
    "\n",
    "# Example\n",
    "string1 = \"listen\"\n",
    "string2 = \"silent\"\n",
    "if is_anagram(string1, string2):\n",
    "    print(\"The strings are anagrams.\")\n",
    "else:\n",
    "    print(\"The strings are not anagrams.\")\n"
   ]
  },
  {
   "cell_type": "markdown",
   "id": "d3cbec66-cb7e-424a-bf1d-cd1cf159349f",
   "metadata": {},
   "source": [
    "13. Write a Python program to generate all permutations of a given string."
   ]
  },
  {
   "cell_type": "code",
   "execution_count": 13,
   "id": "7abcfb97-6e19-49d3-b80c-d1d573a038e4",
   "metadata": {},
   "outputs": [
    {
     "name": "stdout",
     "output_type": "stream",
     "text": [
      "Permutations: ['abc', 'acb', 'bac', 'bca', 'cab', 'cba']\n"
     ]
    }
   ],
   "source": [
    "from itertools import permutations\n",
    "\n",
    "def generate_permutations(input_str):\n",
    "    perms = [''.join(p) for p in permutations(input_str)]\n",
    "    return perms\n",
    "\n",
    "# Example\n",
    "string = \"abc\"\n",
    "permutations = generate_permutations(string)\n",
    "print(\"Permutations:\", permutations)\n"
   ]
  },
  {
   "cell_type": "markdown",
   "id": "3e1f962d-342a-4904-96cb-8f44b01cd9ce",
   "metadata": {},
   "source": [
    "14. Implement a function to calculate the Fibonacci sequence up to a given number of terms."
   ]
  },
  {
   "cell_type": "code",
   "execution_count": 14,
   "id": "05b720ea-fd29-4bc1-9a8f-baeef06d801f",
   "metadata": {},
   "outputs": [
    {
     "name": "stdout",
     "output_type": "stream",
     "text": [
      "Fibonacci sequence: [0, 1, 1, 2, 3, 5, 8, 13, 21, 34]\n"
     ]
    }
   ],
   "source": [
    "def fibonacci_sequence(n):\n",
    "    sequence = [0, 1]\n",
    "    if n <= 2:\n",
    "        return sequence[:n]\n",
    "    for _ in range(n - 2):\n",
    "        next_number = sequence[-1] + sequence[-2]\n",
    "        sequence.append(next_number)\n",
    "    return sequence\n",
    "\n",
    "# Example\n",
    "num_terms = 10\n",
    "fib_sequence = fibonacci_sequence(num_terms)\n",
    "print(\"Fibonacci sequence:\", fib_sequence)\n"
   ]
  },
  {
   "cell_type": "markdown",
   "id": "5cee2e33-534a-4987-a4f8-1a72135e66f9",
   "metadata": {},
   "source": [
    "15. Write a program to find the median of a list of numbers."
   ]
  },
  {
   "cell_type": "code",
   "execution_count": 15,
   "id": "63984578-799a-44cf-b98f-095a24ac8262",
   "metadata": {},
   "outputs": [
    {
     "name": "stdout",
     "output_type": "stream",
     "text": [
      "Median: 5\n"
     ]
    }
   ],
   "source": [
    "def find_median(input_list):\n",
    "    sorted_list = sorted(input_list)\n",
    "    n = len(sorted_list)\n",
    "    if n % 2 == 0:\n",
    "        median = (sorted_list[n//2 - 1] + sorted_list[n//2]) / 2\n",
    "    else:\n",
    "        median = sorted_list[n//2]\n",
    "    return median\n",
    "\n",
    "# Example \n",
    "my_list = [5, 2, 9, 1, 10]\n",
    "median = find_median(my_list)\n",
    "print(\"Median:\", median)\n"
   ]
  },
  {
   "cell_type": "markdown",
   "id": "815edcd9-f8c0-4eb3-9a56-b5ff0e08149a",
   "metadata": {},
   "source": [
    "16. Implement a function to check if a given list is sorted in non-decreasing order."
   ]
  },
  {
   "cell_type": "code",
   "execution_count": 16,
   "id": "ae63c02f-1812-4275-9eb4-efd409b49a38",
   "metadata": {},
   "outputs": [
    {
     "name": "stdout",
     "output_type": "stream",
     "text": [
      "The list is sorted.\n"
     ]
    }
   ],
   "source": [
    "def is_sorted(input_list):\n",
    "    return input_list == sorted(input_list)\n",
    "\n",
    "# Example\n",
    "my_list = [1, 2, 3, 4, 5]\n",
    "if is_sorted(my_list):\n",
    "    print(\"The list is sorted.\")\n",
    "else:\n",
    "    print(\"The list is not sorted.\")\n"
   ]
  },
  {
   "cell_type": "markdown",
   "id": "4fafda39-215f-4859-8e90-02f11ff50a53",
   "metadata": {},
   "source": [
    "17. Write a Python program to find the intersection of two lists."
   ]
  },
  {
   "cell_type": "code",
   "execution_count": 17,
   "id": "2022e376-574a-4720-98ad-c75486ca5c15",
   "metadata": {},
   "outputs": [
    {
     "name": "stdout",
     "output_type": "stream",
     "text": [
      "Intersection: [4, 5]\n"
     ]
    }
   ],
   "source": [
    "def find_intersection(list1, list2):\n",
    "    return list(set(list1) & set(list2))\n",
    "\n",
    "# Example \n",
    "list1 = [1, 2, 3, 4, 5]\n",
    "list2 = [4, 5, 6, 7, 8]\n",
    "intersection = find_intersection(list1, list2)\n",
    "print(\"Intersection:\", intersection)\n"
   ]
  },
  {
   "cell_type": "markdown",
   "id": "82a87c90-cc6b-4bfe-8779-eca4069b8c3d",
   "metadata": {},
   "source": [
    "18. Implement a function to find the maximum subarray sum in a given list."
   ]
  },
  {
   "cell_type": "code",
   "execution_count": 18,
   "id": "0926f1f8-d5a4-4d6d-bf6e-2ec94196b92d",
   "metadata": {},
   "outputs": [
    {
     "name": "stdout",
     "output_type": "stream",
     "text": [
      "Maximum subarray sum: 6\n"
     ]
    }
   ],
   "source": [
    "def max_subarray_sum(input_list):\n",
    "    max_sum = float('-inf')\n",
    "    current_sum = 0\n",
    "    for num in input_list:\n",
    "        current_sum = max(num, current_sum + num)\n",
    "        max_sum = max(max_sum, current_sum)\n",
    "    return max_sum\n",
    "\n",
    "# Example\n",
    "my_list = [-2, 1, -3, 4, -1, 2, 1, -5, 4]\n",
    "max_sum = max_subarray_sum(my_list)\n",
    "print(\"Maximum subarray sum:\", max_sum)\n"
   ]
  },
  {
   "cell_type": "markdown",
   "id": "aa5e8319-b4ab-4922-a44d-d982fafa0407",
   "metadata": {},
   "source": [
    "19. Write a program to remove all vowels from a given string."
   ]
  },
  {
   "cell_type": "code",
   "execution_count": 19,
   "id": "4ed31996-c83c-48cb-9d31-782316618152",
   "metadata": {},
   "outputs": [
    {
     "name": "stdout",
     "output_type": "stream",
     "text": [
      "String without vowels: Mthlsh\n"
     ]
    }
   ],
   "source": [
    "def remove_vowels(input_str):\n",
    "    vowels = \"aeiouAEIOU\"\n",
    "    return ''.join([char for char in input_str if char not in vowels])\n",
    "\n",
    "# Example\n",
    "my_string = \"Mithilesh\"\n",
    "without_vowels = remove_vowels(my_string)\n",
    "print(\"String without vowels:\", without_vowels)\n"
   ]
  },
  {
   "cell_type": "markdown",
   "id": "0326dd11-1fb4-4ea0-9be1-1f8a8bb55392",
   "metadata": {},
   "source": [
    "20. Implement a function to reverse the order of words in a given sentence."
   ]
  },
  {
   "cell_type": "code",
   "execution_count": 20,
   "id": "0d68ec86-b9c6-4509-ae92-935ac344e969",
   "metadata": {},
   "outputs": [
    {
     "name": "stdout",
     "output_type": "stream",
     "text": [
      "Reversed sentence: World! Hello,\n"
     ]
    }
   ],
   "source": [
    "def reverse_sentence(sentence):\n",
    "    words = sentence.split()\n",
    "    reversed_words = ' '.join(reversed(words))\n",
    "    return reversed_words\n",
    "\n",
    "# Example\n",
    "my_sentence = \"Hello, World!\"\n",
    "reversed_sentence = reverse_sentence(my_sentence)\n",
    "print(\"Reversed sentence:\", reversed_sentence)\n"
   ]
  },
  {
   "cell_type": "markdown",
   "id": "e1e013f9-1644-4e76-8c50-89e892a498a4",
   "metadata": {},
   "source": [
    "21. Write a Python program to check if two strings are anagrams of each other."
   ]
  },
  {
   "cell_type": "code",
   "execution_count": 21,
   "id": "1b343521-601b-4f15-a81f-55a24a930b4e",
   "metadata": {},
   "outputs": [
    {
     "name": "stdout",
     "output_type": "stream",
     "text": [
      "The strings are anagrams.\n"
     ]
    }
   ],
   "source": [
    "def are_anagrams(str1, str2):\n",
    "    return sorted(str1.lower()) == sorted(str2.lower())\n",
    "\n",
    "# Example\n",
    "string1 = \"listen\"\n",
    "string2 = \"silent\"\n",
    "if are_anagrams(string1, string2):\n",
    "    print(\"The strings are anagrams.\")\n",
    "else:\n",
    "    print(\"The strings are not anagrams.\")\n"
   ]
  },
  {
   "cell_type": "markdown",
   "id": "16135e4d-fa21-47d6-acc8-b4040f9f5008",
   "metadata": {},
   "source": [
    "22. Implement a function to find the first non-repeating character in a string."
   ]
  },
  {
   "cell_type": "code",
   "execution_count": 22,
   "id": "8dc6de60-44c8-4998-b883-b5014c989154",
   "metadata": {},
   "outputs": [
    {
     "name": "stdout",
     "output_type": "stream",
     "text": [
      "First non-repeating character: a\n"
     ]
    }
   ],
   "source": [
    "def find_first_non_repeating_char(input_str):\n",
    "    char_count = {}\n",
    "    for char in input_str:\n",
    "        if char in char_count:\n",
    "            char_count[char] += 1\n",
    "        else:\n",
    "            char_count[char] = 1\n",
    "    for char in input_str:\n",
    "        if char_count[char] == 1:\n",
    "            return char\n",
    "    return None\n",
    "\n",
    "# Example\n",
    "my_string = \"abbcdd\"\n",
    "first_non_repeating_char = find_first_non_repeating_char(my_string)\n",
    "if first_non_repeating_char:\n",
    "    print(\"First non-repeating character:\", first_non_repeating_char)\n",
    "else:\n",
    "    print(\"No non-repeating character found.\")\n"
   ]
  },
  {
   "cell_type": "markdown",
   "id": "dc896031-028e-4db0-a2cf-887a40eafe7c",
   "metadata": {},
   "source": [
    "23. Write a program to find the prime factors of a given number."
   ]
  },
  {
   "cell_type": "code",
   "execution_count": 23,
   "id": "57fc59b1-0951-425e-bb51-6994ba48ebfa",
   "metadata": {},
   "outputs": [
    {
     "name": "stdout",
     "output_type": "stream",
     "text": [
      "Prime factors of 56 : [2, 2, 2, 7]\n"
     ]
    }
   ],
   "source": [
    "def prime_factors(n):\n",
    "    factors = []\n",
    "    i = 2\n",
    "    while i * i <= n:\n",
    "        if n % i:\n",
    "            i += 1\n",
    "        else:\n",
    "            n //= i\n",
    "            factors.append(i)\n",
    "    if n > 1:\n",
    "        factors.append(n)\n",
    "    return factors\n",
    "\n",
    "# Example usage\n",
    "number = 56\n",
    "prime_factors = prime_factors(number)\n",
    "print(\"Prime factors of\", number, \":\", prime_factors)\n"
   ]
  },
  {
   "cell_type": "markdown",
   "id": "851908af-4606-40cb-9fb0-ccc55fb728a9",
   "metadata": {},
   "source": [
    "24. Implement a function to check if a given number is a power of two."
   ]
  },
  {
   "cell_type": "code",
   "execution_count": 24,
   "id": "516a609e-7d51-4711-a3db-a62070bf35fe",
   "metadata": {},
   "outputs": [
    {
     "name": "stdout",
     "output_type": "stream",
     "text": [
      "16 is a power of two.\n"
     ]
    }
   ],
   "source": [
    "def power_of_two(n):\n",
    "    if n <= 0:\n",
    "        return False\n",
    "    return n & (n - 1) == 0\n",
    "\n",
    "# Example\n",
    "number = 16\n",
    "if power_of_two(number):\n",
    "    print(number, \"is a power of two.\")\n",
    "else:\n",
    "    print(number, \"is not a power of two.\")\n"
   ]
  },
  {
   "cell_type": "markdown",
   "id": "748161f1-80ba-46f3-8ea9-3d071eb7efec",
   "metadata": {},
   "source": [
    "25. Write a Python program to merge two sorted lists into a single sorted list.\n"
   ]
  },
  {
   "cell_type": "code",
   "execution_count": 25,
   "id": "ec754a38-c811-43dc-a7d8-8c0dfe86ad35",
   "metadata": {},
   "outputs": [
    {
     "name": "stdout",
     "output_type": "stream",
     "text": [
      "Merged list: [1, 2, 3, 4, 5, 6, 7, 8]\n"
     ]
    }
   ],
   "source": [
    "def merge_sorted_lists(list1, list2):\n",
    "    merged_list = []\n",
    "    i = 0\n",
    "    j = 0\n",
    "    while i < len(list1) and j < len(list2):\n",
    "        if list1[i] < list2[j]:\n",
    "            merged_list.append(list1[i])\n",
    "            i += 1\n",
    "        else:\n",
    "            merged_list.append(list2[j])\n",
    "            j += 1\n",
    "    merged_list.extend(list1[i:])\n",
    "    merged_list.extend(list2[j:])\n",
    "    return merged_list\n",
    "\n",
    "# Example\n",
    "list1 = [1, 3, 5, 7]\n",
    "list2 = [2, 4, 6, 8]\n",
    "merged_list = merge_sorted_lists(list1, list2)\n",
    "print(\"Merged list:\", merged_list)\n"
   ]
  },
  {
   "cell_type": "markdown",
   "id": "7e8582f3-ac06-47c8-a71e-2b08f15052e7",
   "metadata": {},
   "source": [
    "26. Implement a function to find the mode of a list of numbers.\n"
   ]
  },
  {
   "cell_type": "code",
   "execution_count": 26,
   "id": "810042ef-0d18-451b-a597-da243bc28e3a",
   "metadata": {},
   "outputs": [
    {
     "name": "stdout",
     "output_type": "stream",
     "text": [
      "Mode: [2]\n"
     ]
    }
   ],
   "source": [
    "from collections import Counter\n",
    "\n",
    "def find_mode(input_list):\n",
    "    count = Counter(input_list)\n",
    "    max_count = max(count.values())\n",
    "    mode = [num for num, freq in count.items() if freq == max_count]\n",
    "    return mode\n",
    "\n",
    "# Example\n",
    "my_list = [1, 2, 3, 2, 4, 1, 5, 2, 4]\n",
    "mode_list = find_mode(my_list)\n",
    "print(\"Mode:\", mode_list)\n"
   ]
  },
  {
   "cell_type": "markdown",
   "id": "2615c00d-f2dd-4814-b0ed-5497857302d3",
   "metadata": {},
   "source": [
    "27. Write a program to find the greatest common divisor (GCD) of two numbers.\n"
   ]
  },
  {
   "cell_type": "code",
   "execution_count": 27,
   "id": "05acbea6-93f0-4973-ac48-4007b6954bd3",
   "metadata": {},
   "outputs": [
    {
     "name": "stdout",
     "output_type": "stream",
     "text": [
      "Greatest Common Divisor: 12\n"
     ]
    }
   ],
   "source": [
    "def gcd(a, b):\n",
    "    while b != 0:\n",
    "        a, b = b, a % b\n",
    "    return a\n",
    "\n",
    "# Example\n",
    "num1 = 36\n",
    "num2 = 48\n",
    "greatest_common_divisor = gcd(num1, num2)\n",
    "print(\"Greatest Common Divisor:\", greatest_common_divisor)\n"
   ]
  },
  {
   "cell_type": "markdown",
   "id": "19ebd286-0967-47c1-a687-b28f7bfd33f4",
   "metadata": {},
   "source": [
    "28. Implement a function to calculate the square root of a given number.\n"
   ]
  },
  {
   "cell_type": "code",
   "execution_count": 28,
   "id": "d5ddcd4a-796b-4efd-9f67-1518855507d8",
   "metadata": {},
   "outputs": [
    {
     "name": "stdout",
     "output_type": "stream",
     "text": [
      "Square root of 16 is: 4.000000000000051\n"
     ]
    }
   ],
   "source": [
    "def square_root(n):\n",
    "    if n < 0:\n",
    "        return \"Invalid input. Square root is not defined for negative numbers.\"\n",
    "    guess = n\n",
    "    while True:\n",
    "        new_guess = (guess + n / guess) / 2\n",
    "        if abs(new_guess - guess) < 0.0001:\n",
    "            return new_guess\n",
    "        guess = new_guess\n",
    "\n",
    "# Example\n",
    "number = 16\n",
    "sqrt = square_root(number)\n",
    "print(\"Square root of\", number, \"is:\", sqrt)\n"
   ]
  },
  {
   "cell_type": "markdown",
   "id": "baa1c409-3219-48e7-89ec-aab8483cc129",
   "metadata": {},
   "source": [
    "29. Write a Python program to check if a given string is a valid palindrome ignoring non-alphanumeric characters.\n"
   ]
  },
  {
   "cell_type": "code",
   "execution_count": 29,
   "id": "0d4d910b-0091-4d67-85a9-2a5526722691",
   "metadata": {},
   "outputs": [
    {
     "name": "stdout",
     "output_type": "stream",
     "text": [
      "The string is a valid palindrome.\n"
     ]
    }
   ],
   "source": [
    "import re\n",
    "\n",
    "def is_valid_palindrome(input_str):\n",
    "    alphanumeric_str = re.sub('[^a-zA-Z0-9]', '', input_str)\n",
    "    alphanumeric_str = alphanumeric_str.lower()\n",
    "    return alphanumeric_str == alphanumeric_str[::-1]\n",
    "\n",
    "# Example\n",
    "string = \"A man, a plan, a canal: Panama!\"\n",
    "if is_valid_palindrome(string):\n",
    "    print(\"The string is a valid palindrome.\")\n",
    "else:\n",
    "    print(\"The string is not a valid palindrome.\")\n"
   ]
  },
  {
   "cell_type": "markdown",
   "id": "543922e6-98e5-4225-8713-99e7b6a39c1e",
   "metadata": {},
   "source": [
    "30. Implement a function to find the minimum element in a rotated sorted list.\n"
   ]
  },
  {
   "cell_type": "code",
   "execution_count": 30,
   "id": "488f1937-fafc-4b83-b638-a62baae2b107",
   "metadata": {},
   "outputs": [
    {
     "name": "stdout",
     "output_type": "stream",
     "text": [
      "Minimum element: 1\n"
     ]
    }
   ],
   "source": [
    "def find_min_element(rotated_list):\n",
    "    left = 0\n",
    "    right = len(rotated_list) - 1\n",
    "    while left < right:\n",
    "        mid = left + (right - left) // 2\n",
    "        if rotated_list[mid] > rotated_list[right]:\n",
    "            left = mid + 1\n",
    "        else:\n",
    "            right = mid\n",
    "    return rotated_list[left]\n",
    "\n",
    "# Example \n",
    "my_list = [4, 5, 6, 7, 1, 2, 3]\n",
    "min_element = find_min_element(my_list)\n",
    "print(\"Minimum element:\", min_element)\n"
   ]
  },
  {
   "cell_type": "markdown",
   "id": "465d4f3b-0004-4a89-b6aa-e776461c0210",
   "metadata": {},
   "source": [
    "31. Write a program to find the sum of all even numbers in a list.\n"
   ]
  },
  {
   "cell_type": "code",
   "execution_count": 31,
   "id": "18c100e9-f2ae-438f-84c5-99584a3e5ed8",
   "metadata": {},
   "outputs": [
    {
     "name": "stdout",
     "output_type": "stream",
     "text": [
      "Sum of even numbers: 12\n"
     ]
    }
   ],
   "source": [
    "def sum_of_even_numbers(input_list):\n",
    "    return sum(num for num in input_list if num % 2 == 0)\n",
    "\n",
    "# Example\n",
    "my_list = [1, 2, 3, 4, 5, 6]\n",
    "even_sum = sum_of_even_numbers(my_list)\n",
    "print(\"Sum of even numbers:\", even_sum)\n"
   ]
  },
  {
   "cell_type": "markdown",
   "id": "68895f1e-046e-4dba-9842-77bc86eaf858",
   "metadata": {},
   "source": [
    "32. Implement a function to calculate the power of a number using recursion.\n"
   ]
  },
  {
   "cell_type": "code",
   "execution_count": 32,
   "id": "b7f77cc0-8bd4-428e-8a60-c73dba92c818",
   "metadata": {},
   "outputs": [
    {
     "name": "stdout",
     "output_type": "stream",
     "text": [
      "2 raised to the power of 5 is: 32\n"
     ]
    }
   ],
   "source": [
    "def power(base, exponent):\n",
    "    if exponent == 0:\n",
    "        return 1\n",
    "    if exponent < 0:\n",
    "        return 1 / power(base, -exponent)\n",
    "    if exponent % 2 == 0:\n",
    "        temp = power(base, exponent // 2)\n",
    "        return temp * temp\n",
    "    return base * power(base, exponent - 1)\n",
    "\n",
    "# Example\n",
    "base = 2\n",
    "exponent = 5\n",
    "result = power(base, exponent)\n",
    "print(base, \"raised to the power of\", exponent, \"is:\", result)\n"
   ]
  },
  {
   "cell_type": "markdown",
   "id": "4dd40115-5a97-4ec3-ba8e-85caeb22cd75",
   "metadata": {},
   "source": [
    "33. Write a Python program to remove duplicates from a list while preserving the order.\n"
   ]
  },
  {
   "cell_type": "code",
   "execution_count": 33,
   "id": "c1179f4a-2bdc-4b57-a269-8a2dbff84173",
   "metadata": {},
   "outputs": [
    {
     "name": "stdout",
     "output_type": "stream",
     "text": [
      "List with duplicates removed: [1, 2, 3, 4, 5]\n"
     ]
    }
   ],
   "source": [
    "def remove_duplicates_preserve_order(input_list):\n",
    "    unique_list = []\n",
    "    for item in input_list:\n",
    "        if item not in unique_list:\n",
    "            unique_list.append(item)\n",
    "    return unique_list\n",
    "\n",
    "# Example\n",
    "my_list = [1, 2, 3, 2, 4, 1, 5]\n",
    "unique_list = remove_duplicates_preserve_order(my_list)\n",
    "print(\"List with duplicates removed:\", unique_list)\n"
   ]
  },
  {
   "cell_type": "markdown",
   "id": "c2fe871c-8000-4a9b-88c2-2a13741f6d7d",
   "metadata": {},
   "source": [
    "34. Implement a function to find the longest common prefix among a list of strings.\n"
   ]
  },
  {
   "cell_type": "code",
   "execution_count": 34,
   "id": "f593013a-eae3-4531-bf63-cc73621db589",
   "metadata": {},
   "outputs": [
    {
     "name": "stdout",
     "output_type": "stream",
     "text": [
      "Longest common prefix: fl\n"
     ]
    }
   ],
   "source": [
    "def find_longest_common_prefix(str_list):\n",
    "    if not str_list:\n",
    "        return \"\"\n",
    "    \n",
    "    for i in range(len(str_list[0])):\n",
    "        char = str_list[0][i]\n",
    "        for j in range(1, len(str_list)):\n",
    "            if i >= len(str_list[j]) or str_list[j][i] != char:\n",
    "                return str_list[0][:i]\n",
    "    return str_list[0]\n",
    "\n",
    "# Example \n",
    "string_list = [\"flower\", \"flow\", \"flight\"]\n",
    "common_prefix = find_longest_common_prefix(string_list)\n",
    "print(\"Longest common prefix:\", common_prefix)\n"
   ]
  },
  {
   "cell_type": "markdown",
   "id": "ffb91fec-4512-434c-991f-73e2b806e4a0",
   "metadata": {},
   "source": [
    "35. Write a program to check if a given number is a perfect square.\n"
   ]
  },
  {
   "cell_type": "code",
   "execution_count": 35,
   "id": "3c4ddc67-62ea-4ad6-b9d2-a073750aa113",
   "metadata": {},
   "outputs": [
    {
     "name": "stdout",
     "output_type": "stream",
     "text": [
      "16 is a perfect square.\n"
     ]
    }
   ],
   "source": [
    "def is_perfect_square(n):\n",
    "    if n < 0:\n",
    "        return False\n",
    "    root = int(n ** 0.5)\n",
    "    return root * root == n\n",
    "\n",
    "# Example\n",
    "number = 16\n",
    "if is_perfect_square(number):\n",
    "    print(number, \"is a perfect square.\")\n",
    "else:\n",
    "    print(number, \"is not a perfect square.\")\n"
   ]
  },
  {
   "cell_type": "markdown",
   "id": "8338d56e-b90d-41c2-acb8-09ab2cd4dccf",
   "metadata": {},
   "source": [
    "36. Implement a function to calculate the product of all elements in a list.\n"
   ]
  },
  {
   "cell_type": "code",
   "execution_count": 36,
   "id": "a642eacc-0577-4c43-bfbf-88ab33919e76",
   "metadata": {},
   "outputs": [
    {
     "name": "stdout",
     "output_type": "stream",
     "text": [
      "Product of elements: 120\n"
     ]
    }
   ],
   "source": [
    "def product_of_elements(input_list):\n",
    "    if len(input_list) == 0:\n",
    "        return 1\n",
    "    product = 1\n",
    "    for num in input_list:\n",
    "        product *= num\n",
    "    return product\n",
    "\n",
    "# Example\n",
    "my_list = [1, 2, 3, 4, 5]\n",
    "product = product_of_elements(my_list)\n",
    "print(\"Product of elements:\", product)\n"
   ]
  },
  {
   "cell_type": "markdown",
   "id": "5ea68a0b-7ba8-4c9f-83e7-4090e83f0468",
   "metadata": {},
   "source": [
    "37. Write a Python program to reverse the order of words in a sentence while preserving the word order.\n"
   ]
  },
  {
   "cell_type": "code",
   "execution_count": 37,
   "id": "89005d5f-0805-4c55-8d25-944709c689eb",
   "metadata": {},
   "outputs": [
    {
     "name": "stdout",
     "output_type": "stream",
     "text": [
      "Reversed sentence: World! Hello,\n"
     ]
    }
   ],
   "source": [
    "def reverse_words(sentence):\n",
    "    words = sentence.split()\n",
    "    reversed_sentence = ' '.join(reversed(words))\n",
    "    return reversed_sentence\n",
    "\n",
    "# Example \n",
    "my_sentence = \"Hello, World!\"\n",
    "reversed_sentence = reverse_words(my_sentence)\n",
    "print(\"Reversed sentence:\", reversed_sentence)\n"
   ]
  },
  {
   "cell_type": "markdown",
   "id": "f7e18948-cd46-4045-a676-8fdf508c0ebb",
   "metadata": {},
   "source": [
    "38. Implement a function to find the missing number in a given list of consecutive numbers.\n"
   ]
  },
  {
   "cell_type": "code",
   "execution_count": 38,
   "id": "5d2b9e5e-60f0-4cee-a44a-370302f21be5",
   "metadata": {},
   "outputs": [
    {
     "name": "stdout",
     "output_type": "stream",
     "text": [
      "Missing number: 4\n"
     ]
    }
   ],
   "source": [
    "def find_missing_number(input_list):\n",
    "    n = len(input_list) + 1\n",
    "    total_sum = (n * (n + 1)) // 2\n",
    "    actual_sum = sum(input_list)\n",
    "    missing_number = total_sum - actual_sum\n",
    "    return missing_number\n",
    "\n",
    "# Example\n",
    "my_list = [1, 2, 3, 5, 6]\n",
    "missing_number = find_missing_number(my_list)\n",
    "print(\"Missing number:\", missing_number)\n"
   ]
  },
  {
   "cell_type": "markdown",
   "id": "7114d338-f166-4921-8959-140bff9da959",
   "metadata": {},
   "source": [
    "39. Write a program to find the sum of digits of a given number.\n"
   ]
  },
  {
   "cell_type": "code",
   "execution_count": 39,
   "id": "862b4905-7a34-4620-961c-b2a883acefdd",
   "metadata": {},
   "outputs": [
    {
     "name": "stdout",
     "output_type": "stream",
     "text": [
      "Sum of digits: 15\n"
     ]
    }
   ],
   "source": [
    "def sum_of_digits(number):\n",
    "    num_str = str(number)\n",
    "    digit_sum = sum(int(digit) for digit in num_str)\n",
    "    return digit_sum\n",
    "\n",
    "# Example\n",
    "num = 12345\n",
    "digit_sum = sum_of_digits(num)\n",
    "print(\"Sum of digits:\", digit_sum)\n"
   ]
  },
  {
   "cell_type": "markdown",
   "id": "915c7bb0-1b8e-4d5d-9786-41a9870ab403",
   "metadata": {},
   "source": [
    "40. Implement a function to check if a given string is a valid palindrome considering case sensitivity.\n"
   ]
  },
  {
   "cell_type": "code",
   "execution_count": 40,
   "id": "a729cb7d-65e7-48f5-8dac-f8edd7244895",
   "metadata": {},
   "outputs": [
    {
     "name": "stdout",
     "output_type": "stream",
     "text": [
      "The string is a valid palindrome.\n"
     ]
    }
   ],
   "source": [
    "def is_valid_palindrome_case_sensitive(input_str):\n",
    "    return input_str == input_str[::-1]\n",
    "\n",
    "# Example\n",
    "string = \"level\"\n",
    "if is_valid_palindrome_case_sensitive(string):\n",
    "    print(\"The string is a valid palindrome.\")\n",
    "else:\n",
    "    print(\"The string is not a valid palindrome.\")\n"
   ]
  },
  {
   "cell_type": "markdown",
   "id": "01461052-971c-4e09-826d-142aa4e2e401",
   "metadata": {},
   "source": [
    "41. Write a Python program to find the smallest missing positive integer in a list.\n"
   ]
  },
  {
   "cell_type": "code",
   "execution_count": 41,
   "id": "0cd85194-9cf6-469b-aa68-23e7a6412d40",
   "metadata": {},
   "outputs": [
    {
     "name": "stdout",
     "output_type": "stream",
     "text": [
      "Smallest missing positive integer: 2\n"
     ]
    }
   ],
   "source": [
    "def find_smallest_missing_positive(input_list):\n",
    "    positive_nums = set(num for num in input_list if num > 0)\n",
    "    if not positive_nums:\n",
    "        return 1\n",
    "    max_num = max(positive_nums)\n",
    "    for i in range(1, max_num + 2):\n",
    "        if i not in positive_nums:\n",
    "            return i\n",
    "\n",
    "# Example\n",
    "my_list = [-5, -2, 0, 1, 3, 6, 4]\n",
    "smallest_missing = find_smallest_missing_positive(my_list)\n",
    "print(\"Smallest missing positive integer:\", smallest_missing)\n"
   ]
  },
  {
   "cell_type": "markdown",
   "id": "7c38a18f-80fb-4373-84b4-e6bbf85ae5ac",
   "metadata": {},
   "source": [
    "42. Implement a function to find the longest palindrome substring in a given string.\n"
   ]
  },
  {
   "cell_type": "code",
   "execution_count": 42,
   "id": "ffd0141a-8077-456b-b2ce-f240e7c82310",
   "metadata": {},
   "outputs": [
    {
     "name": "stdout",
     "output_type": "stream",
     "text": [
      "Longest palindrome substring: bab\n"
     ]
    }
   ],
   "source": [
    "def find_longest_palindrome(input_str):\n",
    "    longest_palindrome = \"\"\n",
    "    for i in range(len(input_str)):\n",
    "        # Check for odd-length palindromes\n",
    "        left, right = i, i\n",
    "        while left >= 0 and right < len(input_str) and input_str[left] == input_str[right]:\n",
    "            left -= 1\n",
    "            right += 1\n",
    "        odd_palindrome = input_str[left+1:right]\n",
    "        if len(odd_palindrome) > len(longest_palindrome):\n",
    "            longest_palindrome = odd_palindrome\n",
    "        # Check for even-length palindromes\n",
    "        left, right = i, i+1\n",
    "        while left >= 0 and right < len(input_str) and input_str[left] == input_str[right]:\n",
    "            left -= 1\n",
    "            right += 1\n",
    "        even_palindrome = input_str[left+1:right]\n",
    "        if len(even_palindrome) > len(longest_palindrome):\n",
    "            longest_palindrome = even_palindrome\n",
    "    return longest_palindrome\n",
    "\n",
    "# Example \n",
    "my_string = \"babad\"\n",
    "longest_palindrome = find_longest_palindrome(my_string)\n",
    "print(\"Longest palindrome substring:\", longest_palindrome)\n"
   ]
  },
  {
   "cell_type": "markdown",
   "id": "c5d5cc51-5001-4249-bbe1-73e3a6bb58e0",
   "metadata": {},
   "source": [
    "43. Write a program to find the number of occurrences of a given element in a list.\n"
   ]
  },
  {
   "cell_type": "code",
   "execution_count": 43,
   "id": "682cdb68-a0d0-4ce8-afb7-b9c512bc2c37",
   "metadata": {},
   "outputs": [
    {
     "name": "stdout",
     "output_type": "stream",
     "text": [
      "Occurrences of 2 : 3\n"
     ]
    }
   ],
   "source": [
    "def count_occurrences(input_list, element):\n",
    "    return input_list.count(element)\n",
    "\n",
    "# Example\n",
    "my_list = [1, 2, 3, 2, 4, 2, 5]\n",
    "element = 2\n",
    "occurrences = count_occurrences(my_list, element)\n",
    "print(\"Occurrences of\", element, \":\", occurrences)\n"
   ]
  },
  {
   "cell_type": "markdown",
   "id": "f74d864c-94d3-4b80-9f06-427ac878ae2d",
   "metadata": {},
   "source": [
    "44. Implement a function to check if a given number is a perfect number.\n"
   ]
  },
  {
   "cell_type": "code",
   "execution_count": 44,
   "id": "cdbc5de9-0fdb-440e-8c03-89f8b8ab29cd",
   "metadata": {},
   "outputs": [
    {
     "name": "stdout",
     "output_type": "stream",
     "text": [
      "28 is a perfect number.\n"
     ]
    }
   ],
   "source": [
    "def is_perfect_number(number):\n",
    "    if number <= 0:\n",
    "        return False\n",
    "    divisors = [i for i in range(1, number) if number % i == 0]\n",
    "    return sum(divisors) == number\n",
    "\n",
    "# Example\n",
    "num = 28\n",
    "if is_perfect_number(num):\n",
    "    print(num, \"is a perfect number.\")\n",
    "else:\n",
    "    print(num, \"is not a perfect number.\")\n"
   ]
  },
  {
   "cell_type": "markdown",
   "id": "eb30d750-3590-479d-9acb-d4d6129042f7",
   "metadata": {},
   "source": [
    "45. Write a Python program to remove all duplicates from a string.\n"
   ]
  },
  {
   "cell_type": "code",
   "execution_count": 45,
   "id": "afe414ff-ee4a-4769-8f4c-79c77fda747d",
   "metadata": {},
   "outputs": [
    {
     "name": "stdout",
     "output_type": "stream",
     "text": [
      "String without duplicates: Helo, Wrd!\n"
     ]
    }
   ],
   "source": [
    "def remove_duplicates_from_string(input_str):\n",
    "    unique_chars = []\n",
    "    for char in input_str:\n",
    "        if char not in unique_chars:\n",
    "            unique_chars.append(char)\n",
    "    return ''.join(unique_chars)\n",
    "\n",
    "# Example\n",
    "my_string = \"Hello, World!\"\n",
    "without_duplicates = remove_duplicates_from_string(my_string)\n",
    "print(\"String without duplicates:\", without_duplicates)\n"
   ]
  },
  {
   "cell_type": "markdown",
   "id": "a9ff0ce3-99a5-44c1-a69d-750de776e3b4",
   "metadata": {},
   "source": [
    "46. Implement a function to find the first missing positive integer in a given list:"
   ]
  },
  {
   "cell_type": "code",
   "execution_count": 46,
   "id": "a34718fa-fefb-4161-a140-786f7bd49278",
   "metadata": {},
   "outputs": [
    {
     "name": "stdout",
     "output_type": "stream",
     "text": [
      "First missing positive integer: 2\n"
     ]
    }
   ],
   "source": [
    "def find_first_missing_positive(input_list):\n",
    "    n = len(input_list)\n",
    "    for i in range(n):\n",
    "        while 1 <= input_list[i] <= n and input_list[i] != input_list[input_list[i] - 1]:\n",
    "            # Swap the elements\n",
    "            input_list[input_list[i] - 1], input_list[i] = input_list[i], input_list[input_list[i] - 1]\n",
    "    for i in range(n):\n",
    "        if input_list[i] != i + 1:\n",
    "            return i + 1\n",
    "    return n + 1\n",
    "\n",
    "# Example\n",
    "my_list = [-5, -2, 0, 1, 3, 6, 4]\n",
    "first_missing = find_first_missing_positive(my_list)\n",
    "print(\"First missing positive integer:\", first_missing)\n"
   ]
  },
  {
   "cell_type": "code",
   "execution_count": null,
   "id": "64365d8c-fe8f-433f-9f50-2443cb3d2172",
   "metadata": {},
   "outputs": [],
   "source": []
  }
 ],
 "metadata": {
  "kernelspec": {
   "display_name": "Python 3 (ipykernel)",
   "language": "python",
   "name": "python3"
  },
  "language_info": {
   "codemirror_mode": {
    "name": "ipython",
    "version": 3
   },
   "file_extension": ".py",
   "mimetype": "text/x-python",
   "name": "python",
   "nbconvert_exporter": "python",
   "pygments_lexer": "ipython3",
   "version": "3.10.8"
  }
 },
 "nbformat": 4,
 "nbformat_minor": 5
}
